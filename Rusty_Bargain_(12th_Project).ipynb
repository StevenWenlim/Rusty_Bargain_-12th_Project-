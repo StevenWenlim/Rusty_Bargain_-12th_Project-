{
  "cells": [
    {
      "cell_type": "markdown",
      "metadata": {
        "id": "4LL9RBkJ_OrB"
      },
      "source": [
        "# Find the Best Model for Rusty Bargain Company"
      ]
    },
    {
      "cell_type": "markdown",
      "metadata": {
        "id": "2gxEtN5v_OrB"
      },
      "source": [
        "Rusty Bargain is a company that deals with used cars that is currently developing an application to attract new buyers. Inside the application, we can find the market price of a car. Here i have access to historical data: specifications, versions, and vehicle prices. I need to create a model to determine its value.\n",
        "\n",
        "Rusty Bargain is interested in:\n",
        "\n",
        "1. Prediction accuracy;\n",
        "2. Model speed in making predictions;\n",
        "3. Time required to train the model."
      ]
    },
    {
      "cell_type": "markdown",
      "metadata": {
        "id": "5RKjEGG9_OrB"
      },
      "source": [
        "# Content <a id='contents'></a>\n",
        "\n",
        "* [0 Data Description](#data_desription)\n",
        "\n",
        "* [1 Data_Preprocessing](#data_preprocessing)\n",
        "    * [1.1 Load Data](#load_data)\n",
        "    * [1.2 Initial_Data_Exploration](#initial_data_exploration)\n",
        "        * [1.2.1 Train Dataframe](#train_dataframe)\n",
        "        * [1.2.2 Test Dataframe](#test_dataframe)\n",
        "        * [1.2.3 Full Dataframe](#full_dataframe)\n",
        "        * [1.2.4 Initial Summary](#initial_summary)\n",
        "    * [1.3 Find MAE for Recovery Calculation](#find_mae)\n",
        "    \n",
        "* [2 Data Analyzation](#data_analyzation)\n",
        "    * [2.1 Concentration Changes in Each Purification Process](#purification_process)\n",
        "    * [2.2 Feed Particle Size Distributions](#particle_size_distributions)\n",
        "    * [2.3 Eliminate Anomallies](#eliminate_anomallies)\n",
        "    * [2.4 Fill Missing Value](#fill_missing_value)\n",
        "\n",
        "* [3 Build Model](#build_model)\n",
        "    * [3.1 Ridge Model](#ridge_model)\n",
        "    * [3.2 Random Forest Model](#random_forest_model)\n",
        "    * [3.3 Decision Tree Model](#decision_tree_model)\n",
        "    * [3.4 Model Test](#model_test)\n",
        "\n",
        "* [4 Summary](#summary)"
      ]
    },
    {
      "cell_type": "markdown",
      "metadata": {
        "id": "8hJJRY0H_OrB"
      },
      "source": [
        "# 0. Data Description"
      ]
    },
    {
      "cell_type": "markdown",
      "metadata": {
        "id": "Qq9mBdmK_OrC"
      },
      "source": [
        "**Features:**\n",
        "- DateCrawled - the date when the profile was downloaded from the database\n",
        "- VehicleType - the type of vehicle\n",
        "- RegistrationYear - the year the vehicle was registered\n",
        "- Gearbox - the type of transmission\n",
        "- Power - power (in horsepower)\n",
        "- Model - vehicle model\n",
        "- Mileage - mileage (measured in km based on a certain regional dataset)\n",
        "- RegistrationMonth - the month the vehicle was registered\n",
        "- FuelType - fuel type\n",
        "- Brand - vehicle brand\n",
        "- NotRepaired - whether the vehicle has been repaired before\n",
        "- DateCreated - the date when the profile was created\n",
        "- NumberOfPictures - number of vehicle pictures\n",
        "- PostalCode - the postal code of the profile owner (user)\n",
        "- LastSeen - the date of the user's last activity\n",
        "\n",
        "**Target:**\n",
        "- Price - price (in Euros)"
      ]
    },
    {
      "cell_type": "markdown",
      "metadata": {
        "id": "ZNB7fQ9P_OrC"
      },
      "source": [
        "## Data Preparation"
      ]
    },
    {
      "cell_type": "code",
      "execution_count": null,
      "metadata": {
        "id": "oFmQm8Re_OrC"
      },
      "outputs": [],
      "source": [
        "# Muat semua library\n",
        "import pandas as pd\n",
        "import matplotlib.pyplot as plt\n",
        "import seaborn as sns\n",
        "import numpy as np\n",
        "import time\n",
        "\n",
        "from scipy import stats as st \n",
        "\n",
        "from sklearn.ensemble import RandomForestRegressord\n",
        "from sklearn.linear_model import LinearRegression\n",
        "\n",
        "from sklearn.model_selection import train_test_split, GridSearchCV, KFold\n",
        "from sklearn.metrics import mean_squared_error, f1_score, roc_auc_score, make_scorer\n",
        "from sklearn.preprocessing import LabelEncoder, StandardScaler, MaxAbsScaler\n",
        "from sklearn.metrics import roc_auc_score\n",
        "\n",
        "from sklearn.utils import shuffle\n",
        "from sklearn.pipeline import Pipeline\n",
        "from sklearn.dummy import DummyRegressor\n",
        "\n",
        "from xgboost import XGBRegressor\n",
        "from lightgbm import LGBMRegressor\n",
        "from catboost import CatBoostRegressor\n",
        "\n",
        "import warnings\n",
        "warnings.filterwarnings('ignore')"
      ]
    },
    {
      "cell_type": "markdown",
      "metadata": {
        "id": "CisstxY2_OrD"
      },
      "source": [
        "### Load Data"
      ]
    },
    {
      "cell_type": "code",
      "execution_count": null,
      "metadata": {
        "id": "AFn76jhi_OrD"
      },
      "outputs": [],
      "source": [
        "# load file into Dataframe\n",
        "df = pd.read_csv('/datasets/car_data.csv')"
      ]
    },
    {
      "cell_type": "markdown",
      "metadata": {
        "id": "hPehcjzP_OrE"
      },
      "source": [
        "### Initial Data Exploration"
      ]
    },
    {
      "cell_type": "code",
      "execution_count": null,
      "metadata": {
        "id": "L04v9vXt_OrE",
        "outputId": "c8d5d3c3-858b-4f59-b913-f8285e14377f"
      },
      "outputs": [
        {
          "data": {
            "text/html": [
              "<div>\n",
              "<style scoped>\n",
              "    .dataframe tbody tr th:only-of-type {\n",
              "        vertical-align: middle;\n",
              "    }\n",
              "\n",
              "    .dataframe tbody tr th {\n",
              "        vertical-align: top;\n",
              "    }\n",
              "\n",
              "    .dataframe thead th {\n",
              "        text-align: right;\n",
              "    }\n",
              "</style>\n",
              "<table border=\"1\" class=\"dataframe\">\n",
              "  <thead>\n",
              "    <tr style=\"text-align: right;\">\n",
              "      <th></th>\n",
              "      <th>DateCrawled</th>\n",
              "      <th>Price</th>\n",
              "      <th>VehicleType</th>\n",
              "      <th>RegistrationYear</th>\n",
              "      <th>Gearbox</th>\n",
              "      <th>Power</th>\n",
              "      <th>Model</th>\n",
              "      <th>Mileage</th>\n",
              "      <th>RegistrationMonth</th>\n",
              "      <th>FuelType</th>\n",
              "      <th>Brand</th>\n",
              "      <th>NotRepaired</th>\n",
              "      <th>DateCreated</th>\n",
              "      <th>NumberOfPictures</th>\n",
              "      <th>PostalCode</th>\n",
              "      <th>LastSeen</th>\n",
              "    </tr>\n",
              "  </thead>\n",
              "  <tbody>\n",
              "    <tr>\n",
              "      <th>182156</th>\n",
              "      <td>01/04/2016 19:56</td>\n",
              "      <td>6500</td>\n",
              "      <td>sedan</td>\n",
              "      <td>2005</td>\n",
              "      <td>auto</td>\n",
              "      <td>0</td>\n",
              "      <td>a6</td>\n",
              "      <td>150000</td>\n",
              "      <td>5</td>\n",
              "      <td>gasoline</td>\n",
              "      <td>audi</td>\n",
              "      <td>no</td>\n",
              "      <td>01/04/2016 00:00</td>\n",
              "      <td>0</td>\n",
              "      <td>49733</td>\n",
              "      <td>03/04/2016 16:47</td>\n",
              "    </tr>\n",
              "    <tr>\n",
              "      <th>240935</th>\n",
              "      <td>14/03/2016 21:48</td>\n",
              "      <td>9000</td>\n",
              "      <td>small</td>\n",
              "      <td>2009</td>\n",
              "      <td>manual</td>\n",
              "      <td>120</td>\n",
              "      <td>fiesta</td>\n",
              "      <td>125000</td>\n",
              "      <td>3</td>\n",
              "      <td>NaN</td>\n",
              "      <td>ford</td>\n",
              "      <td>no</td>\n",
              "      <td>14/03/2016 00:00</td>\n",
              "      <td>0</td>\n",
              "      <td>72336</td>\n",
              "      <td>24/03/2016 04:45</td>\n",
              "    </tr>\n",
              "    <tr>\n",
              "      <th>106338</th>\n",
              "      <td>18/03/2016 07:36</td>\n",
              "      <td>8650</td>\n",
              "      <td>bus</td>\n",
              "      <td>2010</td>\n",
              "      <td>manual</td>\n",
              "      <td>80</td>\n",
              "      <td>caddy</td>\n",
              "      <td>90000</td>\n",
              "      <td>5</td>\n",
              "      <td>petrol</td>\n",
              "      <td>volkswagen</td>\n",
              "      <td>no</td>\n",
              "      <td>18/03/2016 00:00</td>\n",
              "      <td>0</td>\n",
              "      <td>25524</td>\n",
              "      <td>23/03/2016 17:47</td>\n",
              "    </tr>\n",
              "    <tr>\n",
              "      <th>40651</th>\n",
              "      <td>11/03/2016 13:56</td>\n",
              "      <td>650</td>\n",
              "      <td>small</td>\n",
              "      <td>2002</td>\n",
              "      <td>manual</td>\n",
              "      <td>50</td>\n",
              "      <td>cuore</td>\n",
              "      <td>150000</td>\n",
              "      <td>12</td>\n",
              "      <td>petrol</td>\n",
              "      <td>daihatsu</td>\n",
              "      <td>NaN</td>\n",
              "      <td>11/03/2016 00:00</td>\n",
              "      <td>0</td>\n",
              "      <td>12157</td>\n",
              "      <td>12/03/2016 18:44</td>\n",
              "    </tr>\n",
              "    <tr>\n",
              "      <th>344742</th>\n",
              "      <td>05/03/2016 14:53</td>\n",
              "      <td>2150</td>\n",
              "      <td>sedan</td>\n",
              "      <td>1989</td>\n",
              "      <td>manual</td>\n",
              "      <td>166</td>\n",
              "      <td>other</td>\n",
              "      <td>150000</td>\n",
              "      <td>8</td>\n",
              "      <td>petrol</td>\n",
              "      <td>mercedes_benz</td>\n",
              "      <td>no</td>\n",
              "      <td>05/03/2016 00:00</td>\n",
              "      <td>0</td>\n",
              "      <td>86459</td>\n",
              "      <td>27/03/2016 15:16</td>\n",
              "    </tr>\n",
              "    <tr>\n",
              "      <th>104791</th>\n",
              "      <td>27/03/2016 20:38</td>\n",
              "      <td>5700</td>\n",
              "      <td>NaN</td>\n",
              "      <td>2018</td>\n",
              "      <td>manual</td>\n",
              "      <td>80</td>\n",
              "      <td>roomster</td>\n",
              "      <td>125000</td>\n",
              "      <td>2</td>\n",
              "      <td>gasoline</td>\n",
              "      <td>skoda</td>\n",
              "      <td>NaN</td>\n",
              "      <td>27/03/2016 00:00</td>\n",
              "      <td>0</td>\n",
              "      <td>92648</td>\n",
              "      <td>05/04/2016 18:45</td>\n",
              "    </tr>\n",
              "    <tr>\n",
              "      <th>271425</th>\n",
              "      <td>03/04/2016 09:02</td>\n",
              "      <td>3999</td>\n",
              "      <td>wagon</td>\n",
              "      <td>2007</td>\n",
              "      <td>manual</td>\n",
              "      <td>77</td>\n",
              "      <td>doblo</td>\n",
              "      <td>150000</td>\n",
              "      <td>2</td>\n",
              "      <td>lpg</td>\n",
              "      <td>fiat</td>\n",
              "      <td>NaN</td>\n",
              "      <td>03/04/2016 00:00</td>\n",
              "      <td>0</td>\n",
              "      <td>64807</td>\n",
              "      <td>03/04/2016 09:02</td>\n",
              "    </tr>\n",
              "    <tr>\n",
              "      <th>184168</th>\n",
              "      <td>17/03/2016 15:46</td>\n",
              "      <td>2900</td>\n",
              "      <td>wagon</td>\n",
              "      <td>2001</td>\n",
              "      <td>auto</td>\n",
              "      <td>179</td>\n",
              "      <td>e_klasse</td>\n",
              "      <td>150000</td>\n",
              "      <td>7</td>\n",
              "      <td>gasoline</td>\n",
              "      <td>mercedes_benz</td>\n",
              "      <td>NaN</td>\n",
              "      <td>17/03/2016 00:00</td>\n",
              "      <td>0</td>\n",
              "      <td>66132</td>\n",
              "      <td>06/04/2016 23:17</td>\n",
              "    </tr>\n",
              "    <tr>\n",
              "      <th>56459</th>\n",
              "      <td>08/03/2016 21:50</td>\n",
              "      <td>1250</td>\n",
              "      <td>small</td>\n",
              "      <td>2001</td>\n",
              "      <td>manual</td>\n",
              "      <td>80</td>\n",
              "      <td>fiesta</td>\n",
              "      <td>150000</td>\n",
              "      <td>11</td>\n",
              "      <td>petrol</td>\n",
              "      <td>ford</td>\n",
              "      <td>no</td>\n",
              "      <td>08/03/2016 00:00</td>\n",
              "      <td>0</td>\n",
              "      <td>31683</td>\n",
              "      <td>06/04/2016 04:16</td>\n",
              "    </tr>\n",
              "    <tr>\n",
              "      <th>84434</th>\n",
              "      <td>29/03/2016 21:39</td>\n",
              "      <td>500</td>\n",
              "      <td>small</td>\n",
              "      <td>1997</td>\n",
              "      <td>manual</td>\n",
              "      <td>54</td>\n",
              "      <td>polo</td>\n",
              "      <td>150000</td>\n",
              "      <td>0</td>\n",
              "      <td>petrol</td>\n",
              "      <td>volkswagen</td>\n",
              "      <td>yes</td>\n",
              "      <td>29/03/2016 00:00</td>\n",
              "      <td>0</td>\n",
              "      <td>6110</td>\n",
              "      <td>06/04/2016 07:46</td>\n",
              "    </tr>\n",
              "  </tbody>\n",
              "</table>\n",
              "</div>"
            ],
            "text/plain": [
              "             DateCrawled  Price VehicleType  RegistrationYear Gearbox  Power  \\\n",
              "182156  01/04/2016 19:56   6500       sedan              2005    auto      0   \n",
              "240935  14/03/2016 21:48   9000       small              2009  manual    120   \n",
              "106338  18/03/2016 07:36   8650         bus              2010  manual     80   \n",
              "40651   11/03/2016 13:56    650       small              2002  manual     50   \n",
              "344742  05/03/2016 14:53   2150       sedan              1989  manual    166   \n",
              "104791  27/03/2016 20:38   5700         NaN              2018  manual     80   \n",
              "271425  03/04/2016 09:02   3999       wagon              2007  manual     77   \n",
              "184168  17/03/2016 15:46   2900       wagon              2001    auto    179   \n",
              "56459   08/03/2016 21:50   1250       small              2001  manual     80   \n",
              "84434   29/03/2016 21:39    500       small              1997  manual     54   \n",
              "\n",
              "           Model  Mileage  RegistrationMonth  FuelType          Brand  \\\n",
              "182156        a6   150000                  5  gasoline           audi   \n",
              "240935    fiesta   125000                  3       NaN           ford   \n",
              "106338     caddy    90000                  5    petrol     volkswagen   \n",
              "40651      cuore   150000                 12    petrol       daihatsu   \n",
              "344742     other   150000                  8    petrol  mercedes_benz   \n",
              "104791  roomster   125000                  2  gasoline          skoda   \n",
              "271425     doblo   150000                  2       lpg           fiat   \n",
              "184168  e_klasse   150000                  7  gasoline  mercedes_benz   \n",
              "56459     fiesta   150000                 11    petrol           ford   \n",
              "84434       polo   150000                  0    petrol     volkswagen   \n",
              "\n",
              "       NotRepaired       DateCreated  NumberOfPictures  PostalCode  \\\n",
              "182156          no  01/04/2016 00:00                 0       49733   \n",
              "240935          no  14/03/2016 00:00                 0       72336   \n",
              "106338          no  18/03/2016 00:00                 0       25524   \n",
              "40651          NaN  11/03/2016 00:00                 0       12157   \n",
              "344742          no  05/03/2016 00:00                 0       86459   \n",
              "104791         NaN  27/03/2016 00:00                 0       92648   \n",
              "271425         NaN  03/04/2016 00:00                 0       64807   \n",
              "184168         NaN  17/03/2016 00:00                 0       66132   \n",
              "56459           no  08/03/2016 00:00                 0       31683   \n",
              "84434          yes  29/03/2016 00:00                 0        6110   \n",
              "\n",
              "                LastSeen  \n",
              "182156  03/04/2016 16:47  \n",
              "240935  24/03/2016 04:45  \n",
              "106338  23/03/2016 17:47  \n",
              "40651   12/03/2016 18:44  \n",
              "344742  27/03/2016 15:16  \n",
              "104791  05/04/2016 18:45  \n",
              "271425  03/04/2016 09:02  \n",
              "184168  06/04/2016 23:17  \n",
              "56459   06/04/2016 04:16  \n",
              "84434   06/04/2016 07:46  "
            ]
          },
          "execution_count": 3,
          "metadata": {},
          "output_type": "execute_result"
        }
      ],
      "source": [
        "df.sample(10)"
      ]
    },
    {
      "cell_type": "code",
      "execution_count": null,
      "metadata": {
        "id": "rxCQbNEk_OrF",
        "outputId": "70f261dd-7980-43d2-e40c-03f6c79db270"
      },
      "outputs": [
        {
          "name": "stdout",
          "output_type": "stream",
          "text": [
            "<class 'pandas.core.frame.DataFrame'>\n",
            "RangeIndex: 354369 entries, 0 to 354368\n",
            "Data columns (total 16 columns):\n",
            " #   Column             Non-Null Count   Dtype \n",
            "---  ------             --------------   ----- \n",
            " 0   DateCrawled        354369 non-null  object\n",
            " 1   Price              354369 non-null  int64 \n",
            " 2   VehicleType        316879 non-null  object\n",
            " 3   RegistrationYear   354369 non-null  int64 \n",
            " 4   Gearbox            334536 non-null  object\n",
            " 5   Power              354369 non-null  int64 \n",
            " 6   Model              334664 non-null  object\n",
            " 7   Mileage            354369 non-null  int64 \n",
            " 8   RegistrationMonth  354369 non-null  int64 \n",
            " 9   FuelType           321474 non-null  object\n",
            " 10  Brand              354369 non-null  object\n",
            " 11  NotRepaired        283215 non-null  object\n",
            " 12  DateCreated        354369 non-null  object\n",
            " 13  NumberOfPictures   354369 non-null  int64 \n",
            " 14  PostalCode         354369 non-null  int64 \n",
            " 15  LastSeen           354369 non-null  object\n",
            "dtypes: int64(7), object(9)\n",
            "memory usage: 43.3+ MB\n"
          ]
        }
      ],
      "source": [
        "df.info()"
      ]
    },
    {
      "cell_type": "code",
      "execution_count": null,
      "metadata": {
        "id": "mdwyuwYS_OrF",
        "outputId": "9bb7fa0f-847c-44e5-a04b-632f244a7b14"
      },
      "outputs": [
        {
          "data": {
            "text/plain": [
              "DateCrawled           0.000000\n",
              "Price                 0.000000\n",
              "VehicleType          10.579368\n",
              "RegistrationYear      0.000000\n",
              "Gearbox               5.596709\n",
              "Power                 0.000000\n",
              "Model                 5.560588\n",
              "Mileage               0.000000\n",
              "RegistrationMonth     0.000000\n",
              "FuelType              9.282697\n",
              "Brand                 0.000000\n",
              "NotRepaired          20.079070\n",
              "DateCreated           0.000000\n",
              "NumberOfPictures      0.000000\n",
              "PostalCode            0.000000\n",
              "LastSeen              0.000000\n",
              "dtype: float64"
            ]
          },
          "execution_count": 5,
          "metadata": {},
          "output_type": "execute_result"
        }
      ],
      "source": [
        "df.isna().sum()/len(df)*100"
      ]
    },
    {
      "cell_type": "code",
      "execution_count": null,
      "metadata": {
        "id": "bpbWJiWA_OrF",
        "outputId": "600b2bcc-9e0a-4d52-a57d-ea9fa10b0c76"
      },
      "outputs": [
        {
          "data": {
            "text/plain": [
              "262"
            ]
          },
          "execution_count": 6,
          "metadata": {},
          "output_type": "execute_result"
        }
      ],
      "source": [
        "df.duplicated().sum()"
      ]
    },
    {
      "cell_type": "code",
      "execution_count": null,
      "metadata": {
        "scrolled": true,
        "id": "SAJcs20U_OrF",
        "outputId": "d985a40b-b845-4847-99f9-32a9a7b99ad6"
      },
      "outputs": [
        {
          "data": {
            "text/html": [
              "<div>\n",
              "<style scoped>\n",
              "    .dataframe tbody tr th:only-of-type {\n",
              "        vertical-align: middle;\n",
              "    }\n",
              "\n",
              "    .dataframe tbody tr th {\n",
              "        vertical-align: top;\n",
              "    }\n",
              "\n",
              "    .dataframe thead th {\n",
              "        text-align: right;\n",
              "    }\n",
              "</style>\n",
              "<table border=\"1\" class=\"dataframe\">\n",
              "  <thead>\n",
              "    <tr style=\"text-align: right;\">\n",
              "      <th></th>\n",
              "      <th>DateCrawled</th>\n",
              "      <th>Price</th>\n",
              "      <th>VehicleType</th>\n",
              "      <th>RegistrationYear</th>\n",
              "      <th>Gearbox</th>\n",
              "      <th>Power</th>\n",
              "      <th>Model</th>\n",
              "      <th>Mileage</th>\n",
              "      <th>RegistrationMonth</th>\n",
              "      <th>FuelType</th>\n",
              "      <th>Brand</th>\n",
              "      <th>NotRepaired</th>\n",
              "      <th>DateCreated</th>\n",
              "      <th>NumberOfPictures</th>\n",
              "      <th>PostalCode</th>\n",
              "      <th>LastSeen</th>\n",
              "    </tr>\n",
              "  </thead>\n",
              "  <tbody>\n",
              "    <tr>\n",
              "      <th>622</th>\n",
              "      <td>16/03/2016 16:55</td>\n",
              "      <td>0</td>\n",
              "      <td>NaN</td>\n",
              "      <td>1111</td>\n",
              "      <td>NaN</td>\n",
              "      <td>0</td>\n",
              "      <td>NaN</td>\n",
              "      <td>5000</td>\n",
              "      <td>0</td>\n",
              "      <td>NaN</td>\n",
              "      <td>opel</td>\n",
              "      <td>NaN</td>\n",
              "      <td>16/03/2016 00:00</td>\n",
              "      <td>0</td>\n",
              "      <td>44628</td>\n",
              "      <td>20/03/2016 16:44</td>\n",
              "    </tr>\n",
              "    <tr>\n",
              "      <th>12946</th>\n",
              "      <td>29/03/2016 18:39</td>\n",
              "      <td>49</td>\n",
              "      <td>NaN</td>\n",
              "      <td>5000</td>\n",
              "      <td>NaN</td>\n",
              "      <td>0</td>\n",
              "      <td>golf</td>\n",
              "      <td>5000</td>\n",
              "      <td>12</td>\n",
              "      <td>NaN</td>\n",
              "      <td>volkswagen</td>\n",
              "      <td>NaN</td>\n",
              "      <td>29/03/2016 00:00</td>\n",
              "      <td>0</td>\n",
              "      <td>74523</td>\n",
              "      <td>06/04/2016 04:16</td>\n",
              "    </tr>\n",
              "    <tr>\n",
              "      <th>15147</th>\n",
              "      <td>14/03/2016 00:52</td>\n",
              "      <td>0</td>\n",
              "      <td>NaN</td>\n",
              "      <td>9999</td>\n",
              "      <td>NaN</td>\n",
              "      <td>0</td>\n",
              "      <td>NaN</td>\n",
              "      <td>10000</td>\n",
              "      <td>0</td>\n",
              "      <td>NaN</td>\n",
              "      <td>sonstige_autos</td>\n",
              "      <td>NaN</td>\n",
              "      <td>13/03/2016 00:00</td>\n",
              "      <td>0</td>\n",
              "      <td>32689</td>\n",
              "      <td>21/03/2016 23:46</td>\n",
              "    </tr>\n",
              "    <tr>\n",
              "      <th>15870</th>\n",
              "      <td>02/04/2016 11:55</td>\n",
              "      <td>1700</td>\n",
              "      <td>NaN</td>\n",
              "      <td>3200</td>\n",
              "      <td>NaN</td>\n",
              "      <td>0</td>\n",
              "      <td>NaN</td>\n",
              "      <td>5000</td>\n",
              "      <td>0</td>\n",
              "      <td>NaN</td>\n",
              "      <td>sonstige_autos</td>\n",
              "      <td>NaN</td>\n",
              "      <td>02/04/2016 00:00</td>\n",
              "      <td>0</td>\n",
              "      <td>33649</td>\n",
              "      <td>06/04/2016 09:46</td>\n",
              "    </tr>\n",
              "    <tr>\n",
              "      <th>16062</th>\n",
              "      <td>29/03/2016 23:42</td>\n",
              "      <td>190</td>\n",
              "      <td>NaN</td>\n",
              "      <td>1000</td>\n",
              "      <td>NaN</td>\n",
              "      <td>0</td>\n",
              "      <td>mondeo</td>\n",
              "      <td>5000</td>\n",
              "      <td>0</td>\n",
              "      <td>NaN</td>\n",
              "      <td>ford</td>\n",
              "      <td>NaN</td>\n",
              "      <td>29/03/2016 00:00</td>\n",
              "      <td>0</td>\n",
              "      <td>47166</td>\n",
              "      <td>06/04/2016 10:44</td>\n",
              "    </tr>\n",
              "    <tr>\n",
              "      <th>...</th>\n",
              "      <td>...</td>\n",
              "      <td>...</td>\n",
              "      <td>...</td>\n",
              "      <td>...</td>\n",
              "      <td>...</td>\n",
              "      <td>...</td>\n",
              "      <td>...</td>\n",
              "      <td>...</td>\n",
              "      <td>...</td>\n",
              "      <td>...</td>\n",
              "      <td>...</td>\n",
              "      <td>...</td>\n",
              "      <td>...</td>\n",
              "      <td>...</td>\n",
              "      <td>...</td>\n",
              "      <td>...</td>\n",
              "    </tr>\n",
              "    <tr>\n",
              "      <th>340548</th>\n",
              "      <td>02/04/2016 17:44</td>\n",
              "      <td>0</td>\n",
              "      <td>NaN</td>\n",
              "      <td>3500</td>\n",
              "      <td>manual</td>\n",
              "      <td>75</td>\n",
              "      <td>NaN</td>\n",
              "      <td>5000</td>\n",
              "      <td>3</td>\n",
              "      <td>petrol</td>\n",
              "      <td>sonstige_autos</td>\n",
              "      <td>NaN</td>\n",
              "      <td>02/04/2016 00:00</td>\n",
              "      <td>0</td>\n",
              "      <td>96465</td>\n",
              "      <td>04/04/2016 15:17</td>\n",
              "    </tr>\n",
              "    <tr>\n",
              "      <th>340759</th>\n",
              "      <td>04/04/2016 23:55</td>\n",
              "      <td>700</td>\n",
              "      <td>NaN</td>\n",
              "      <td>1600</td>\n",
              "      <td>manual</td>\n",
              "      <td>1600</td>\n",
              "      <td>a3</td>\n",
              "      <td>150000</td>\n",
              "      <td>4</td>\n",
              "      <td>petrol</td>\n",
              "      <td>audi</td>\n",
              "      <td>no</td>\n",
              "      <td>04/04/2016 00:00</td>\n",
              "      <td>0</td>\n",
              "      <td>86343</td>\n",
              "      <td>05/04/2016 06:44</td>\n",
              "    </tr>\n",
              "    <tr>\n",
              "      <th>341791</th>\n",
              "      <td>28/03/2016 17:37</td>\n",
              "      <td>1</td>\n",
              "      <td>NaN</td>\n",
              "      <td>3000</td>\n",
              "      <td>NaN</td>\n",
              "      <td>0</td>\n",
              "      <td>zafira</td>\n",
              "      <td>5000</td>\n",
              "      <td>0</td>\n",
              "      <td>NaN</td>\n",
              "      <td>opel</td>\n",
              "      <td>NaN</td>\n",
              "      <td>28/03/2016 00:00</td>\n",
              "      <td>0</td>\n",
              "      <td>26624</td>\n",
              "      <td>02/04/2016 22:17</td>\n",
              "    </tr>\n",
              "    <tr>\n",
              "      <th>348830</th>\n",
              "      <td>22/03/2016 00:38</td>\n",
              "      <td>1</td>\n",
              "      <td>NaN</td>\n",
              "      <td>1000</td>\n",
              "      <td>NaN</td>\n",
              "      <td>1000</td>\n",
              "      <td>NaN</td>\n",
              "      <td>150000</td>\n",
              "      <td>0</td>\n",
              "      <td>NaN</td>\n",
              "      <td>sonstige_autos</td>\n",
              "      <td>NaN</td>\n",
              "      <td>21/03/2016 00:00</td>\n",
              "      <td>0</td>\n",
              "      <td>41472</td>\n",
              "      <td>05/04/2016 14:18</td>\n",
              "    </tr>\n",
              "    <tr>\n",
              "      <th>351682</th>\n",
              "      <td>12/03/2016 00:57</td>\n",
              "      <td>11500</td>\n",
              "      <td>NaN</td>\n",
              "      <td>1800</td>\n",
              "      <td>NaN</td>\n",
              "      <td>16</td>\n",
              "      <td>other</td>\n",
              "      <td>5000</td>\n",
              "      <td>6</td>\n",
              "      <td>petrol</td>\n",
              "      <td>fiat</td>\n",
              "      <td>NaN</td>\n",
              "      <td>11/03/2016 00:00</td>\n",
              "      <td>0</td>\n",
              "      <td>16515</td>\n",
              "      <td>05/04/2016 19:47</td>\n",
              "    </tr>\n",
              "  </tbody>\n",
              "</table>\n",
              "<p>171 rows × 16 columns</p>\n",
              "</div>"
            ],
            "text/plain": [
              "             DateCrawled  Price VehicleType  RegistrationYear Gearbox  Power  \\\n",
              "622     16/03/2016 16:55      0         NaN              1111     NaN      0   \n",
              "12946   29/03/2016 18:39     49         NaN              5000     NaN      0   \n",
              "15147   14/03/2016 00:52      0         NaN              9999     NaN      0   \n",
              "15870   02/04/2016 11:55   1700         NaN              3200     NaN      0   \n",
              "16062   29/03/2016 23:42    190         NaN              1000     NaN      0   \n",
              "...                  ...    ...         ...               ...     ...    ...   \n",
              "340548  02/04/2016 17:44      0         NaN              3500  manual     75   \n",
              "340759  04/04/2016 23:55    700         NaN              1600  manual   1600   \n",
              "341791  28/03/2016 17:37      1         NaN              3000     NaN      0   \n",
              "348830  22/03/2016 00:38      1         NaN              1000     NaN   1000   \n",
              "351682  12/03/2016 00:57  11500         NaN              1800     NaN     16   \n",
              "\n",
              "         Model  Mileage  RegistrationMonth FuelType           Brand  \\\n",
              "622        NaN     5000                  0      NaN            opel   \n",
              "12946     golf     5000                 12      NaN      volkswagen   \n",
              "15147      NaN    10000                  0      NaN  sonstige_autos   \n",
              "15870      NaN     5000                  0      NaN  sonstige_autos   \n",
              "16062   mondeo     5000                  0      NaN            ford   \n",
              "...        ...      ...                ...      ...             ...   \n",
              "340548     NaN     5000                  3   petrol  sonstige_autos   \n",
              "340759      a3   150000                  4   petrol            audi   \n",
              "341791  zafira     5000                  0      NaN            opel   \n",
              "348830     NaN   150000                  0      NaN  sonstige_autos   \n",
              "351682   other     5000                  6   petrol            fiat   \n",
              "\n",
              "       NotRepaired       DateCreated  NumberOfPictures  PostalCode  \\\n",
              "622            NaN  16/03/2016 00:00                 0       44628   \n",
              "12946          NaN  29/03/2016 00:00                 0       74523   \n",
              "15147          NaN  13/03/2016 00:00                 0       32689   \n",
              "15870          NaN  02/04/2016 00:00                 0       33649   \n",
              "16062          NaN  29/03/2016 00:00                 0       47166   \n",
              "...            ...               ...               ...         ...   \n",
              "340548         NaN  02/04/2016 00:00                 0       96465   \n",
              "340759          no  04/04/2016 00:00                 0       86343   \n",
              "341791         NaN  28/03/2016 00:00                 0       26624   \n",
              "348830         NaN  21/03/2016 00:00                 0       41472   \n",
              "351682         NaN  11/03/2016 00:00                 0       16515   \n",
              "\n",
              "                LastSeen  \n",
              "622     20/03/2016 16:44  \n",
              "12946   06/04/2016 04:16  \n",
              "15147   21/03/2016 23:46  \n",
              "15870   06/04/2016 09:46  \n",
              "16062   06/04/2016 10:44  \n",
              "...                  ...  \n",
              "340548  04/04/2016 15:17  \n",
              "340759  05/04/2016 06:44  \n",
              "341791  02/04/2016 22:17  \n",
              "348830  05/04/2016 14:18  \n",
              "351682  05/04/2016 19:47  \n",
              "\n",
              "[171 rows x 16 columns]"
            ]
          },
          "execution_count": 7,
          "metadata": {},
          "output_type": "execute_result"
        }
      ],
      "source": [
        "df[(df['RegistrationYear'] <= 1900) | (df['RegistrationYear'] >= 2023)]"
      ]
    },
    {
      "cell_type": "markdown",
      "metadata": {
        "id": "Z5CoqoUR_OrG"
      },
      "source": [
        "**Brief Summarize:**\n",
        "\n",
        "The given data is raw data that still needs to be processed. Based on initial data exploration, I can conclude several issues with the data:\n",
        "\n",
        "1. There are missing data in several columns, with a value of up to 20% of the total data.\n",
        "2. There are abnormal data in several columns, such as registration year, power, and price.\n",
        "3. There are duplicate data and inappropriate data types.\n",
        "\n",
        "The next step I will take is to perform EDA to remove duplicate data, examine and correct abnormal data, fill in missing values, and change the inappropriate data types."
      ]
    },
    {
      "cell_type": "markdown",
      "metadata": {
        "id": "CBcDE5iQ_OrG"
      },
      "source": [
        "### Handle Problematic Data"
      ]
    },
    {
      "cell_type": "code",
      "execution_count": null,
      "metadata": {
        "id": "ZsL9l6sI_OrG",
        "outputId": "d8ebd00e-8b04-4628-8477-b01bcfe85f99"
      },
      "outputs": [
        {
          "data": {
            "text/plain": [
              "0"
            ]
          },
          "execution_count": 8,
          "metadata": {},
          "output_type": "execute_result"
        }
      ],
      "source": [
        "# drop duplicate data\n",
        "df.drop_duplicates(inplace = True)\n",
        "df.duplicated().sum()"
      ]
    },
    {
      "cell_type": "code",
      "execution_count": null,
      "metadata": {
        "id": "eDEYvhjJ_OrG",
        "outputId": "14a9aec9-a97c-427d-b3ab-1eef712a730e"
      },
      "outputs": [
        {
          "data": {
            "text/plain": [
              "Index(['date_crawled', 'price', 'vehicle_type', 'registration_year', 'gearbox',\n",
              "       'power', 'model', 'mileage', 'registration_month', 'fuel_type', 'brand',\n",
              "       'not_repaired', 'date_created', 'number_of_pictures', 'postal_code',\n",
              "       'last_seen'],\n",
              "      dtype='object')"
            ]
          },
          "execution_count": 9,
          "metadata": {},
          "output_type": "execute_result"
        }
      ],
      "source": [
        "# fix columns name\n",
        "df = df.rename(columns={'DateCrawled': 'date_crawled', 'Price': 'price', 'VehicleType':'vehicle_type', \\\n",
        "                     'RegistrationYear': 'registration_year', 'Gearbox':'gearbox', 'Power':'power', 'Model': 'model', \\\n",
        "                     'Mileage':'mileage', 'RegistrationMonth':'registration_month','FuelType':'fuel_type', 'Brand':'brand', \\\n",
        "                     'NotRepaired':'not_repaired','DateCreated': 'date_created','NumberOfPictures':'number_of_pictures',\\\n",
        "                     'PostalCode':'postal_code','LastSeen':'last_seen'})\n",
        "df.columns"
      ]
    },
    {
      "cell_type": "code",
      "execution_count": null,
      "metadata": {
        "id": "COu0bpxX_OrH",
        "outputId": "f150af54-3e11-4856-d2a9-bc83f4ce3b2c"
      },
      "outputs": [
        {
          "data": {
            "image/png": "[encoded data removed]",
            "text/plain": [
              "<Figure size 1440x720 with 6 Axes>"
            ]
          },
          "metadata": {
            "needs_background": "light"
          },
          "output_type": "display_data"
        }
      ],
      "source": [
        "# checking abnormal values in numeric columns\n",
        "num_col = ['price', 'registration_year', 'power', 'mileage', 'registration_month', 'number_of_pictures']\n",
        "plt.figure(figsize=(20, 10))\n",
        "i = 1\n",
        "for col in num_col:\n",
        "    \n",
        "    plt.subplot(2, 3, i)\n",
        "    plt.hist(df[col], bins=5)\n",
        "    plt.title(f'Distribution of {col} values')\n",
        "    plt.xlabel(\"Value\")\n",
        "    plt.ylabel(\"Frequency\")\n",
        "    i = i + 1\n",
        "plt.show()"
      ]
    },
    {
      "cell_type": "code",
      "execution_count": null,
      "metadata": {
        "id": "-VsPJN4x_OrH",
        "outputId": "b87bf6da-34bc-4fc6-bda8-4d7023db64da"
      },
      "outputs": [
        {
          "data": {
            "text/plain": [
              "0"
            ]
          },
          "execution_count": 11,
          "metadata": {},
          "output_type": "execute_result"
        }
      ],
      "source": [
        "# Drop row which have missing values in model column\n",
        "df = df.dropna(subset=['model']).reset_index(drop=True)\n",
        "df.model.isna().sum()"
      ]
    },
    {
      "cell_type": "code",
      "execution_count": null,
      "metadata": {
        "id": "qKklo9cD_OrH"
      },
      "outputs": [],
      "source": [
        "# converting NaN values in vehicle_type & model columns to 'missing' object.\n",
        "df['vehicle_type'] = df['vehicle_type'].replace (np.nan, 'missing')\n",
        "df['model'] = df['model'].replace (np.nan, 'missing')"
      ]
    },
    {
      "cell_type": "code",
      "execution_count": null,
      "metadata": {
        "id": "NtTFUpi5_OrH",
        "outputId": "5c55561b-9f85-49a9-bb4a-b79624cb08ac"
      },
      "outputs": [
        {
          "data": {
            "text/html": [
              "<div>\n",
              "<style scoped>\n",
              "    .dataframe tbody tr th:only-of-type {\n",
              "        vertical-align: middle;\n",
              "    }\n",
              "\n",
              "    .dataframe tbody tr th {\n",
              "        vertical-align: top;\n",
              "    }\n",
              "\n",
              "    .dataframe thead th {\n",
              "        text-align: right;\n",
              "    }\n",
              "</style>\n",
              "<table border=\"1\" class=\"dataframe\">\n",
              "  <thead>\n",
              "    <tr style=\"text-align: right;\">\n",
              "      <th></th>\n",
              "      <th>date_crawled</th>\n",
              "      <th>price</th>\n",
              "      <th>vehicle_type</th>\n",
              "      <th>registration_year</th>\n",
              "      <th>gearbox</th>\n",
              "      <th>power</th>\n",
              "      <th>model</th>\n",
              "      <th>mileage</th>\n",
              "      <th>registration_month</th>\n",
              "      <th>fuel_type</th>\n",
              "      <th>brand</th>\n",
              "      <th>not_repaired</th>\n",
              "      <th>date_created</th>\n",
              "      <th>number_of_pictures</th>\n",
              "      <th>postal_code</th>\n",
              "      <th>last_seen</th>\n",
              "    </tr>\n",
              "  </thead>\n",
              "  <tbody>\n",
              "  </tbody>\n",
              "</table>\n",
              "</div>"
            ],
            "text/plain": [
              "Empty DataFrame\n",
              "Columns: [date_crawled, price, vehicle_type, registration_year, gearbox, power, model, mileage, registration_month, fuel_type, brand, not_repaired, date_created, number_of_pictures, postal_code, last_seen]\n",
              "Index: []"
            ]
          },
          "execution_count": 13,
          "metadata": {},
          "output_type": "execute_result"
        }
      ],
      "source": [
        "# filetering abnormal values in registration_year\n",
        "df = df[~(df['registration_year'] <= 1900)]\n",
        "df = df[~(df['registration_year'] >= 2023)]\n",
        "df[(df['registration_year'] <= 1900) | (df['registration_year'] >= 2023)]"
      ]
    },
    {
      "cell_type": "code",
      "execution_count": null,
      "metadata": {
        "id": "UFPn0E9j_OrH",
        "outputId": "4d03e5a4-85e7-4035-c359-7b7002eb09f2"
      },
      "outputs": [
        {
          "data": {
            "text/plain": [
              "manual    255690\n",
              "auto       62991\n",
              "NaN        15629\n",
              "Name: gearbox, dtype: int64"
            ]
          },
          "execution_count": 14,
          "metadata": {},
          "output_type": "execute_result"
        }
      ],
      "source": [
        "df.gearbox.value_counts(dropna=False)"
      ]
    },
    {
      "cell_type": "code",
      "execution_count": null,
      "metadata": {
        "id": "K-rrjX3Z_OrI",
        "outputId": "3acfa73b-c1bf-4c20-8e44-fa473c6935c0"
      },
      "outputs": [
        {
          "data": {
            "text/plain": [
              "manual    255690\n",
              "auto       78620\n",
              "Name: gearbox, dtype: int64"
            ]
          },
          "execution_count": 15,
          "metadata": {},
          "output_type": "execute_result"
        }
      ],
      "source": [
        "# changing NaN values in gearbox column to automatic\n",
        "df.gearbox = df.gearbox.replace(np.nan, 'auto')\n",
        "df.gearbox.value_counts(dropna=False)"
      ]
    },
    {
      "cell_type": "code",
      "execution_count": null,
      "metadata": {
        "id": "ODmUPTPJ_OrI",
        "outputId": "68f62b49-bb4c-466c-cae0-d9dddcf9066e"
      },
      "outputs": [
        {
          "data": {
            "text/plain": [
              "no               238614\n",
              "not_mentioned     62010\n",
              "yes               33686\n",
              "Name: not_repaired, dtype: int64"
            ]
          },
          "execution_count": 16,
          "metadata": {},
          "output_type": "execute_result"
        }
      ],
      "source": [
        "# Replacing NaN values in not_repaired column to not_mentioned.\n",
        "df['not_repaired'] = df['not_repaired'].replace (np.nan, 'not_mentioned')\n",
        "df.not_repaired.value_counts(dropna = False)"
      ]
    },
    {
      "cell_type": "code",
      "execution_count": null,
      "metadata": {
        "id": "YVsXlL5g_OrI",
        "outputId": "2c02de72-5a1f-4177-a9a5-3757e1342530"
      },
      "outputs": [
        {
          "data": {
            "text/plain": [
              "Index(['date_crawled', 'price', 'vehicle_type', 'registration_year', 'gearbox',\n",
              "       'power', 'model', 'mileage', 'registration_month', 'fuel_type', 'brand',\n",
              "       'not_repaired', 'date_created', 'number_of_pictures', 'postal_code',\n",
              "       'last_seen'],\n",
              "      dtype='object')"
            ]
          },
          "execution_count": 17,
          "metadata": {},
          "output_type": "execute_result"
        }
      ],
      "source": [
        "df.columns"
      ]
    },
    {
      "cell_type": "code",
      "execution_count": null,
      "metadata": {
        "id": "njXYkgAD_OrI",
        "outputId": "ff3a4aa2-143b-4b35-dff4-daf6c7472ef3"
      },
      "outputs": [
        {
          "data": {
            "text/plain": [
              "petrol      232555\n",
              "gasoline     95795\n",
              "lpg           4960\n",
              "cng            543\n",
              "hybrid         208\n",
              "other          133\n",
              "electric        66\n",
              "Name: fuel_type, dtype: int64"
            ]
          },
          "execution_count": 18,
          "metadata": {},
          "output_type": "execute_result"
        }
      ],
      "source": [
        "# Assigning a fuel_type to NaN cars based on 'power' column.\n",
        "df.fuel_type = df.fuel_type.fillna('X')\n",
        "df['fuel_type'] = np.where((df['fuel_type'] == 'X'), df.groupby('power')['fuel_type'].transform('max'), df['fuel_type'])\n",
        "df.fuel_type = df.fuel_type.replace('X', np.nan) \n",
        "df.dropna(subset=['fuel_type'], how='any', inplace=True)\n",
        "df.fuel_type.value_counts(dropna = False)"
      ]
    },
    {
      "cell_type": "code",
      "execution_count": null,
      "metadata": {
        "id": "f-EsN6iV_OrI",
        "outputId": "64971a71-4549-42d9-d406-3100cfca815c"
      },
      "outputs": [
        {
          "data": {
            "text/plain": [
              "0"
            ]
          },
          "execution_count": 19,
          "metadata": {},
          "output_type": "execute_result"
        }
      ],
      "source": [
        "# changing abnormal value in power column\n",
        "df['power'] = np.where((df['power'] == 0), df.groupby('brand')['power'].transform('mean').round(0), df['power'])\n",
        "df['power'] = np.where((df['power'] > 500), df.groupby('brand')['power'].transform('mean').round(0), df['power'])\n",
        "df['power'] = np.where((df['power'] < 50), df.groupby('brand')['power'].transform('mean').round(0), df['power'])\n",
        "df.power.isna().sum()"
      ]
    },
    {
      "cell_type": "code",
      "execution_count": null,
      "metadata": {
        "id": "b21zC09Z_OrJ"
      },
      "outputs": [],
      "source": [
        "# filtering abnormal values in price column\n",
        "df = df[df['price'] > 100]"
      ]
    },
    {
      "cell_type": "code",
      "execution_count": null,
      "metadata": {
        "id": "tMIE-0hj_OrJ"
      },
      "outputs": [],
      "source": [
        "# changing columns data type\n",
        "df['date_crawled'] = pd.to_datetime(df['date_crawled'], format='%d/%m/%Y %H:%M')\n",
        "df['date_created'] = pd.to_datetime(df['date_created'], format='%d/%m/%Y %H:%M')\n",
        "df['last_seen'] = pd.to_datetime(df['last_seen'], format='%d/%m/%Y %H:%M')"
      ]
    },
    {
      "cell_type": "code",
      "execution_count": null,
      "metadata": {
        "id": "-ovf5rDy_OrJ",
        "outputId": "06a7ba94-86a7-48c4-8023-328138d5dde9"
      },
      "outputs": [
        {
          "name": "stdout",
          "output_type": "stream",
          "text": [
            "<class 'pandas.core.frame.DataFrame'>\n",
            "RangeIndex: 322771 entries, 0 to 322770\n",
            "Data columns (total 16 columns):\n",
            " #   Column              Non-Null Count   Dtype         \n",
            "---  ------              --------------   -----         \n",
            " 0   date_crawled        322771 non-null  datetime64[ns]\n",
            " 1   price               322771 non-null  int64         \n",
            " 2   vehicle_type        322771 non-null  object        \n",
            " 3   registration_year   322771 non-null  int64         \n",
            " 4   gearbox             322771 non-null  object        \n",
            " 5   power               322771 non-null  float64       \n",
            " 6   model               322771 non-null  object        \n",
            " 7   mileage             322771 non-null  int64         \n",
            " 8   registration_month  322771 non-null  int64         \n",
            " 9   fuel_type           322771 non-null  object        \n",
            " 10  brand               322771 non-null  object        \n",
            " 11  not_repaired        322771 non-null  object        \n",
            " 12  date_created        322771 non-null  datetime64[ns]\n",
            " 13  number_of_pictures  322771 non-null  int64         \n",
            " 14  postal_code         322771 non-null  int64         \n",
            " 15  last_seen           322771 non-null  datetime64[ns]\n",
            "dtypes: datetime64[ns](3), float64(1), int64(6), object(6)\n",
            "memory usage: 39.4+ MB\n"
          ]
        }
      ],
      "source": [
        "df = df.reset_index(drop = True)\n",
        "df.info()"
      ]
    },
    {
      "cell_type": "markdown",
      "metadata": {
        "id": "A4giAjKT_OrJ"
      },
      "source": [
        "**Brief Summarize:**\n",
        "\n",
        "After further examining the problematic data, here is a summary of what I did at this stage:\n",
        "\n",
        "1. Drop duplicate data, rename columns, and change data types.\n",
        "2. Drop missing data in the 'model' column.\n",
        "3. Fill missing data in the 'vehicle_type' column with 'missing' and the 'not_repaired' column with 'not_mentioned'.\n",
        "4. Filter the data so that only car data registered from 1900 to 2023 are used.\n",
        "5. Replace abnormal data in the 'power' and 'fuel_type' columns based on the values of other columns after grouping.\n",
        "\n",
        "The next step is to prepare the data for model training."
      ]
    },
    {
      "cell_type": "markdown",
      "metadata": {
        "id": "OERy7Z0A_OrK"
      },
      "source": [
        "### Data Preparation for Model Train"
      ]
    },
    {
      "cell_type": "code",
      "execution_count": null,
      "metadata": {
        "scrolled": true,
        "id": "bI7FvFvc_OrL",
        "outputId": "13978e7b-62ef-4ee7-bb80-c911672159ca"
      },
      "outputs": [
        {
          "data": {
            "text/html": [
              "<div>\n",
              "<style scoped>\n",
              "    .dataframe tbody tr th:only-of-type {\n",
              "        vertical-align: middle;\n",
              "    }\n",
              "\n",
              "    .dataframe tbody tr th {\n",
              "        vertical-align: top;\n",
              "    }\n",
              "\n",
              "    .dataframe thead th {\n",
              "        text-align: right;\n",
              "    }\n",
              "</style>\n",
              "<table border=\"1\" class=\"dataframe\">\n",
              "  <thead>\n",
              "    <tr style=\"text-align: right;\">\n",
              "      <th></th>\n",
              "      <th>date_crawled</th>\n",
              "      <th>price</th>\n",
              "      <th>vehicle_type</th>\n",
              "      <th>registration_year</th>\n",
              "      <th>gearbox</th>\n",
              "      <th>power</th>\n",
              "      <th>model</th>\n",
              "      <th>mileage</th>\n",
              "      <th>registration_month</th>\n",
              "      <th>fuel_type</th>\n",
              "      <th>brand</th>\n",
              "      <th>not_repaired</th>\n",
              "      <th>date_created</th>\n",
              "      <th>number_of_pictures</th>\n",
              "      <th>postal_code</th>\n",
              "      <th>last_seen</th>\n",
              "    </tr>\n",
              "  </thead>\n",
              "  <tbody>\n",
              "    <tr>\n",
              "      <th>0</th>\n",
              "      <td>2016-03-24 11:52:00</td>\n",
              "      <td>480</td>\n",
              "      <td>3</td>\n",
              "      <td>1993</td>\n",
              "      <td>1</td>\n",
              "      <td>96.0</td>\n",
              "      <td>116</td>\n",
              "      <td>150000</td>\n",
              "      <td>0</td>\n",
              "      <td>6</td>\n",
              "      <td>37</td>\n",
              "      <td>1</td>\n",
              "      <td>2016-03-24</td>\n",
              "      <td>0</td>\n",
              "      <td>70435</td>\n",
              "      <td>2016-04-07 03:16:00</td>\n",
              "    </tr>\n",
              "    <tr>\n",
              "      <th>1</th>\n",
              "      <td>2016-03-14 12:52:00</td>\n",
              "      <td>9800</td>\n",
              "      <td>7</td>\n",
              "      <td>2004</td>\n",
              "      <td>0</td>\n",
              "      <td>163.0</td>\n",
              "      <td>117</td>\n",
              "      <td>125000</td>\n",
              "      <td>8</td>\n",
              "      <td>2</td>\n",
              "      <td>14</td>\n",
              "      <td>1</td>\n",
              "      <td>2016-03-14</td>\n",
              "      <td>0</td>\n",
              "      <td>90480</td>\n",
              "      <td>2016-04-05 12:47:00</td>\n",
              "    </tr>\n",
              "    <tr>\n",
              "      <th>2</th>\n",
              "      <td>2016-03-17 16:54:00</td>\n",
              "      <td>1500</td>\n",
              "      <td>6</td>\n",
              "      <td>2001</td>\n",
              "      <td>1</td>\n",
              "      <td>75.0</td>\n",
              "      <td>116</td>\n",
              "      <td>150000</td>\n",
              "      <td>6</td>\n",
              "      <td>6</td>\n",
              "      <td>37</td>\n",
              "      <td>0</td>\n",
              "      <td>2016-03-17</td>\n",
              "      <td>0</td>\n",
              "      <td>91074</td>\n",
              "      <td>2016-03-17 17:40:00</td>\n",
              "    </tr>\n",
              "    <tr>\n",
              "      <th>3</th>\n",
              "      <td>2016-03-31 17:25:00</td>\n",
              "      <td>3600</td>\n",
              "      <td>6</td>\n",
              "      <td>2008</td>\n",
              "      <td>1</td>\n",
              "      <td>69.0</td>\n",
              "      <td>101</td>\n",
              "      <td>90000</td>\n",
              "      <td>7</td>\n",
              "      <td>2</td>\n",
              "      <td>31</td>\n",
              "      <td>0</td>\n",
              "      <td>2016-03-31</td>\n",
              "      <td>0</td>\n",
              "      <td>60437</td>\n",
              "      <td>2016-04-06 10:17:00</td>\n",
              "    </tr>\n",
              "    <tr>\n",
              "      <th>4</th>\n",
              "      <td>2016-04-04 17:36:00</td>\n",
              "      <td>650</td>\n",
              "      <td>5</td>\n",
              "      <td>1995</td>\n",
              "      <td>1</td>\n",
              "      <td>102.0</td>\n",
              "      <td>11</td>\n",
              "      <td>150000</td>\n",
              "      <td>10</td>\n",
              "      <td>6</td>\n",
              "      <td>2</td>\n",
              "      <td>2</td>\n",
              "      <td>2016-04-04</td>\n",
              "      <td>0</td>\n",
              "      <td>33775</td>\n",
              "      <td>2016-04-06 19:17:00</td>\n",
              "    </tr>\n",
              "    <tr>\n",
              "      <th>...</th>\n",
              "      <td>...</td>\n",
              "      <td>...</td>\n",
              "      <td>...</td>\n",
              "      <td>...</td>\n",
              "      <td>...</td>\n",
              "      <td>...</td>\n",
              "      <td>...</td>\n",
              "      <td>...</td>\n",
              "      <td>...</td>\n",
              "      <td>...</td>\n",
              "      <td>...</td>\n",
              "      <td>...</td>\n",
              "      <td>...</td>\n",
              "      <td>...</td>\n",
              "      <td>...</td>\n",
              "      <td>...</td>\n",
              "    </tr>\n",
              "    <tr>\n",
              "      <th>322766</th>\n",
              "      <td>2016-03-19 19:53:00</td>\n",
              "      <td>3200</td>\n",
              "      <td>5</td>\n",
              "      <td>2004</td>\n",
              "      <td>1</td>\n",
              "      <td>225.0</td>\n",
              "      <td>140</td>\n",
              "      <td>150000</td>\n",
              "      <td>5</td>\n",
              "      <td>6</td>\n",
              "      <td>30</td>\n",
              "      <td>2</td>\n",
              "      <td>2016-03-19</td>\n",
              "      <td>0</td>\n",
              "      <td>96465</td>\n",
              "      <td>2016-03-19 20:44:00</td>\n",
              "    </tr>\n",
              "    <tr>\n",
              "      <th>322767</th>\n",
              "      <td>2016-03-27 20:36:00</td>\n",
              "      <td>1150</td>\n",
              "      <td>0</td>\n",
              "      <td>2000</td>\n",
              "      <td>1</td>\n",
              "      <td>92.0</td>\n",
              "      <td>249</td>\n",
              "      <td>150000</td>\n",
              "      <td>3</td>\n",
              "      <td>6</td>\n",
              "      <td>24</td>\n",
              "      <td>0</td>\n",
              "      <td>2016-03-27</td>\n",
              "      <td>0</td>\n",
              "      <td>26624</td>\n",
              "      <td>2016-03-29 10:17:00</td>\n",
              "    </tr>\n",
              "    <tr>\n",
              "      <th>322768</th>\n",
              "      <td>2016-03-05 19:56:00</td>\n",
              "      <td>1199</td>\n",
              "      <td>1</td>\n",
              "      <td>2000</td>\n",
              "      <td>0</td>\n",
              "      <td>101.0</td>\n",
              "      <td>106</td>\n",
              "      <td>125000</td>\n",
              "      <td>3</td>\n",
              "      <td>6</td>\n",
              "      <td>32</td>\n",
              "      <td>0</td>\n",
              "      <td>2016-03-05</td>\n",
              "      <td>0</td>\n",
              "      <td>26135</td>\n",
              "      <td>2016-03-11 18:17:00</td>\n",
              "    </tr>\n",
              "    <tr>\n",
              "      <th>322769</th>\n",
              "      <td>2016-03-19 18:57:00</td>\n",
              "      <td>9200</td>\n",
              "      <td>0</td>\n",
              "      <td>1996</td>\n",
              "      <td>1</td>\n",
              "      <td>102.0</td>\n",
              "      <td>224</td>\n",
              "      <td>150000</td>\n",
              "      <td>3</td>\n",
              "      <td>2</td>\n",
              "      <td>37</td>\n",
              "      <td>0</td>\n",
              "      <td>2016-03-19</td>\n",
              "      <td>0</td>\n",
              "      <td>87439</td>\n",
              "      <td>2016-04-07 07:15:00</td>\n",
              "    </tr>\n",
              "    <tr>\n",
              "      <th>322770</th>\n",
              "      <td>2016-03-20 19:41:00</td>\n",
              "      <td>3400</td>\n",
              "      <td>8</td>\n",
              "      <td>2002</td>\n",
              "      <td>1</td>\n",
              "      <td>100.0</td>\n",
              "      <td>116</td>\n",
              "      <td>150000</td>\n",
              "      <td>6</td>\n",
              "      <td>2</td>\n",
              "      <td>37</td>\n",
              "      <td>1</td>\n",
              "      <td>2016-03-20</td>\n",
              "      <td>0</td>\n",
              "      <td>40764</td>\n",
              "      <td>2016-03-24 12:45:00</td>\n",
              "    </tr>\n",
              "  </tbody>\n",
              "</table>\n",
              "<p>322771 rows × 16 columns</p>\n",
              "</div>"
            ],
            "text/plain": [
              "              date_crawled  price  vehicle_type  registration_year  gearbox  \\\n",
              "0      2016-03-24 11:52:00    480             3               1993        1   \n",
              "1      2016-03-14 12:52:00   9800             7               2004        0   \n",
              "2      2016-03-17 16:54:00   1500             6               2001        1   \n",
              "3      2016-03-31 17:25:00   3600             6               2008        1   \n",
              "4      2016-04-04 17:36:00    650             5               1995        1   \n",
              "...                    ...    ...           ...                ...      ...   \n",
              "322766 2016-03-19 19:53:00   3200             5               2004        1   \n",
              "322767 2016-03-27 20:36:00   1150             0               2000        1   \n",
              "322768 2016-03-05 19:56:00   1199             1               2000        0   \n",
              "322769 2016-03-19 18:57:00   9200             0               1996        1   \n",
              "322770 2016-03-20 19:41:00   3400             8               2002        1   \n",
              "\n",
              "        power  model  mileage  registration_month  fuel_type  brand  \\\n",
              "0        96.0    116   150000                   0          6     37   \n",
              "1       163.0    117   125000                   8          2     14   \n",
              "2        75.0    116   150000                   6          6     37   \n",
              "3        69.0    101    90000                   7          2     31   \n",
              "4       102.0     11   150000                  10          6      2   \n",
              "...       ...    ...      ...                 ...        ...    ...   \n",
              "322766  225.0    140   150000                   5          6     30   \n",
              "322767   92.0    249   150000                   3          6     24   \n",
              "322768  101.0    106   125000                   3          6     32   \n",
              "322769  102.0    224   150000                   3          2     37   \n",
              "322770  100.0    116   150000                   6          2     37   \n",
              "\n",
              "        not_repaired date_created  number_of_pictures  postal_code  \\\n",
              "0                  1   2016-03-24                   0        70435   \n",
              "1                  1   2016-03-14                   0        90480   \n",
              "2                  0   2016-03-17                   0        91074   \n",
              "3                  0   2016-03-31                   0        60437   \n",
              "4                  2   2016-04-04                   0        33775   \n",
              "...              ...          ...                 ...          ...   \n",
              "322766             2   2016-03-19                   0        96465   \n",
              "322767             0   2016-03-27                   0        26624   \n",
              "322768             0   2016-03-05                   0        26135   \n",
              "322769             0   2016-03-19                   0        87439   \n",
              "322770             1   2016-03-20                   0        40764   \n",
              "\n",
              "                 last_seen  \n",
              "0      2016-04-07 03:16:00  \n",
              "1      2016-04-05 12:47:00  \n",
              "2      2016-03-17 17:40:00  \n",
              "3      2016-04-06 10:17:00  \n",
              "4      2016-04-06 19:17:00  \n",
              "...                    ...  \n",
              "322766 2016-03-19 20:44:00  \n",
              "322767 2016-03-29 10:17:00  \n",
              "322768 2016-03-11 18:17:00  \n",
              "322769 2016-04-07 07:15:00  \n",
              "322770 2016-03-24 12:45:00  \n",
              "\n",
              "[322771 rows x 16 columns]"
            ]
          },
          "metadata": {},
          "output_type": "display_data"
        }
      ],
      "source": [
        "#Creating encoded dataset.\n",
        "encoder = LabelEncoder()\n",
        "df_ordinal = pd.DataFrame(df, columns = df.columns)\n",
        "df_ordinal['vehicle_type'] = encoder.fit_transform(df_ordinal['vehicle_type'])\n",
        "df_ordinal['gearbox'] = encoder.fit_transform(df_ordinal['gearbox'])\n",
        "df_ordinal['model'] = encoder.fit_transform(df_ordinal['model'])\n",
        "df_ordinal['fuel_type'] = encoder.fit_transform(df_ordinal['fuel_type'])\n",
        "df_ordinal['brand'] = encoder.fit_transform(df_ordinal['brand'])\n",
        "df_ordinal['not_repaired'] = encoder.fit_transform(df_ordinal['not_repaired'])\n",
        "display(df_ordinal)"
      ]
    },
    {
      "cell_type": "markdown",
      "metadata": {
        "id": "ueZtRXDb_OrL"
      },
      "source": [
        "**Brief Summarize:**\n",
        "\n",
        "In this section, I performed labeling on the data using LabelEncoder because the data used is categorical data that does not have an order or hierarchy.\n",
        "\n",
        "In the next step, I will prepare the feature and target data to train the model."
      ]
    },
    {
      "cell_type": "markdown",
      "metadata": {
        "id": "uauVzzRX_OrL"
      },
      "source": [
        "## Model Train"
      ]
    },
    {
      "cell_type": "code",
      "execution_count": null,
      "metadata": {
        "id": "_yxLs2d6_OrM"
      },
      "outputs": [],
      "source": [
        "df_ordinal = df.drop(['date_crawled', 'date_created', 'last_seen'], axis = 1) "
      ]
    },
    {
      "cell_type": "code",
      "execution_count": null,
      "metadata": {
        "id": "QDuPY1Fg_OrM"
      },
      "outputs": [],
      "source": [
        "# define features and target\n",
        "features = df_ordinal.drop(['price'], axis=1)\n",
        "target = df_ordinal['price']"
      ]
    },
    {
      "cell_type": "code",
      "execution_count": null,
      "metadata": {
        "id": "-W8fpUb7_OrM",
        "outputId": "48648742-2338-4abb-c7dd-bc04ee985f57"
      },
      "outputs": [
        {
          "name": "stdout",
          "output_type": "stream",
          "text": [
            "(242078, 12)\n",
            "(80693, 12)\n",
            "(242078,)\n",
            "(80693,)\n"
          ]
        }
      ],
      "source": [
        "# split data into 2 datasets\n",
        "features_train, features_test, target_train, target_test = train_test_split(\n",
        "    features, target, test_size = 0.25, random_state = 12345)\n",
        "print(features_train.shape)\n",
        "print(features_test.shape)\n",
        "print(target_train.shape)\n",
        "print(target_test.shape)"
      ]
    },
    {
      "cell_type": "code",
      "execution_count": null,
      "metadata": {
        "id": "MYHJf_6p_OrM"
      },
      "outputs": [],
      "source": [
        "feature_names = ['vehicle_type', 'registration_year', 'gearbox', 'power', 'model',\n",
        "                 'mileage', 'registration_month', 'fuel_type', 'brand', 'not_repaired',\n",
        "                 'number_of_pictures', 'postal_code']\n",
        "\n",
        "transformer_mas = MaxAbsScaler().fit(features_train[feature_names].to_numpy())\n",
        "\n",
        "features_train_scaled = features_train.copy()\n",
        "features_train_scaled.loc[:, feature_names] = transformer_mas.transform(features_train[feature_names].to_numpy())\n",
        "features_test_scaled = features_test.copy()\n",
        "features_test_scaled.loc[:, feature_names] = transformer_mas.transform(features_test[feature_names].to_numpy())"
      ]
    },
    {
      "cell_type": "markdown",
      "metadata": {
        "id": "psN58XXZ_OrN"
      },
      "source": [
        "**Brief Summarize:**\n",
        "\n",
        "In this section, I dropped the 'date_crawled', 'date_created', and 'last_seen' columns as they will not be used to train the model. I also scaled the data to speed up the model training process.\n",
        "\n",
        "In the next section, I will train the model using LinearRegression, RandomForest, DecisionTree, XGBoost, LightGBM, and CatBoost."
      ]
    },
    {
      "cell_type": "markdown",
      "metadata": {
        "id": "aWg5_pdZ_OrN"
      },
      "source": [
        "### Linear Regeression"
      ]
    },
    {
      "cell_type": "code",
      "execution_count": null,
      "metadata": {
        "id": "2yR3jEXd_OrN",
        "outputId": "9b7920c0-d6c4-43b7-b670-5672a46cc7c8"
      },
      "outputs": [
        {
          "name": "stdout",
          "output_type": "stream",
          "text": [
            "Linear Regression RMSE: 2942.368258103231\n",
            "Processing time for Linear Regression = 0.2\n"
          ]
        }
      ],
      "source": [
        "start_lr = time.process_time()\n",
        "model_lr = LinearRegression()\n",
        "model_lr.fit(features_train_scaled, target_train)\n",
        "predictions_valid_lr = model_lr.predict(features_test_scaled)\n",
        "\n",
        "lr_rmse = (mean_squared_error(target_test, predictions_valid_lr))**0.5\n",
        "end_lr = time.process_time()\n",
        "lr_time = round(end_lr-start_lr,2)\n",
        "print(\"Linear Regression RMSE:\", lr_rmse)\n",
        "print(f'Processing time for Linear Regression = {lr_time}')"
      ]
    },
    {
      "cell_type": "markdown",
      "metadata": {
        "id": "6Y0fyDYM_OrN"
      },
      "source": [
        "Based on the model training, it can be seen that DecisionTree was able to train the model and provide predictions in 0.2 seconds with an RMSE value of 2943. This model will serve as a dummy model to perform a sanity check on the other models."
      ]
    },
    {
      "cell_type": "markdown",
      "metadata": {
        "id": "M6X61X82_OrO"
      },
      "source": [
        "### Random Forest"
      ]
    },
    {
      "cell_type": "code",
      "execution_count": null,
      "metadata": {
        "id": "7P3n-e9K_OrO",
        "outputId": "0a5800b5-ef2e-4e82-a578-1446ad48d67c"
      },
      "outputs": [
        {
          "name": "stdout",
          "output_type": "stream",
          "text": [
            "Random Forest RMSE: 1569.934115049923\n",
            "Processing time for Random Forest = 143.18\n"
          ]
        }
      ],
      "source": [
        "start_rf = time.process_time()\n",
        "model_rf = RandomForestRegressor(random_state = 12345)\n",
        "model_rf.fit(features_train_scaled, target_train)\n",
        "predictions_valid_rf = model_rf.predict(features_test_scaled)\n",
        "\n",
        "rf_rmse = (mean_squared_error(target_test, predictions_valid_rf))**0.5\n",
        "end_rf = time.process_time()\n",
        "rf_time = round(end_rf-start_rf,2)\n",
        "print(\"Random Forest RMSE:\", rf_rmse)\n",
        "print(f'Processing time for Random Forest = {rf_time}')"
      ]
    },
    {
      "cell_type": "code",
      "execution_count": null,
      "metadata": {
        "id": "b-YZ6C-p_OrO",
        "outputId": "f8a90fb0-93e7-40e5-8ecc-6440d586275c"
      },
      "outputs": [
        {
          "name": "stdout",
          "output_type": "stream",
          "text": [
            "The best paramenets are {'max_depth': 10, 'max_features': 'sqrt', 'n_estimators': 200} with a score of -1933.48\n",
            "Random Forest RMSE: 1925.5044374203517\n"
          ]
        }
      ],
      "source": [
        "# Hyperparameter_tunning for Random Forest\n",
        "param_grid = {'n_estimators': [100, 150, 200],\n",
        "              'max_depth': [3, 5, 10],\n",
        "              'max_features': ['sqrt', 'log2']\n",
        "}\n",
        "\n",
        "rf = RandomForestRegressor(random_state = 12345)\n",
        "\n",
        "grid = GridSearchCV(estimator = rf, \n",
        "                    param_grid = param_grid, \n",
        "                    cv = 5, scoring='neg_root_mean_squared_error')\n",
        "\n",
        "grid.fit(features_train_scaled, target_train)\n",
        "predictions_valid = grid.predict(features_test_scaled)\n",
        "rmse = (mean_squared_error(target_test, predictions_valid))**0.5\n",
        "\n",
        "print(\"The best paramenets are %s with a score of %0.2f\"% \n",
        "      (grid.best_params_,grid.best_score_))\n",
        "print(\"Random Forest RMSE:\", rmse)"
      ]
    },
    {
      "cell_type": "code",
      "execution_count": null,
      "metadata": {
        "id": "ZrnPOMEk_OrO",
        "outputId": "92f133a2-f8a4-4f07-a444-ed074a4b5a6d"
      },
      "outputs": [
        {
          "name": "stdout",
          "output_type": "stream",
          "text": [
            "Random Forest RMSE: 1925.5044374203517\n",
            "Processing time for Random Forest = 42.07\n"
          ]
        }
      ],
      "source": [
        "# Train new Random Forest model using tuned hyperparameters\n",
        "start_rf = time.process_time()\n",
        "model_rf = RandomForestRegressor(n_estimators = 200,\n",
        "                                 max_depth = 10,\n",
        "                                 max_features = 'sqrt',\n",
        "                                 random_state = 12345)\n",
        "model_rf.fit(features_train_scaled, target_train)\n",
        "predictions_valid_rf = model_rf.predict(features_test_scaled)\n",
        "\n",
        "rf_rmse = (mean_squared_error(target_test, predictions_valid_rf))**0.5\n",
        "end_rf = time.process_time()\n",
        "rf_time = round(end_rf-start_rf,2)\n",
        "print(\"Random Forest RMSE:\", rf_rmse)\n",
        "print(f'Processing time for Random Forest = {rf_time}')"
      ]
    },
    {
      "cell_type": "markdown",
      "metadata": {
        "id": "IfjAaoYl_OrP"
      },
      "source": [
        "Based on the experiment, it can be seen that the default Random Forest model without hyperparameter tuning produced a better RMSE value than after tuning. This value is a result of a trade-off for better data processing speed."
      ]
    },
    {
      "cell_type": "markdown",
      "metadata": {
        "id": "3ddKX7-9_OrP"
      },
      "source": [
        "### Decision Tree"
      ]
    },
    {
      "cell_type": "code",
      "execution_count": null,
      "metadata": {
        "id": "zidS-O1T_OrP"
      },
      "outputs": [],
      "source": [
        "from sklearn.tree import DecisionTreeRegressor "
      ]
    },
    {
      "cell_type": "code",
      "execution_count": null,
      "metadata": {
        "id": "IcMjx7Dv_OrQ",
        "outputId": "b3e7443d-32ae-40e6-82ce-fe26ea241576"
      },
      "outputs": [
        {
          "name": "stdout",
          "output_type": "stream",
          "text": [
            "Decision Tree RMSE: 2153.170435446976\n",
            "Processing time for Decision Tree = 2.35\n"
          ]
        }
      ],
      "source": [
        "start_dt = time.process_time()\n",
        "model_dt = DecisionTreeRegressor(random_state = 12345)\n",
        "model_dt.fit(features_train_scaled, target_train)\n",
        "predictions_valid_dt = model_dt.predict(features_test_scaled)\n",
        "\n",
        "dt_rmse = (mean_squared_error(target_test, predictions_valid_dt))**0.5\n",
        "end_dt = time.process_time()\n",
        "dt_time = round(end_dt-start_dt,2)\n",
        "print(\"Decision Tree RMSE:\", dt_rmse)\n",
        "print(f'Processing time for Decision Tree = {dt_time}')"
      ]
    },
    {
      "cell_type": "markdown",
      "metadata": {
        "id": "MCC6W_QK_OrQ"
      },
      "source": [
        "Based on the experiment, it can be seen that the default Decision Tree produced a better RMSE value than Linear Regression with a relatively insignificant increase in data processing time."
      ]
    },
    {
      "cell_type": "markdown",
      "metadata": {
        "id": "HfSVg87i_OrQ"
      },
      "source": [
        "### XGBoost"
      ]
    },
    {
      "cell_type": "code",
      "execution_count": null,
      "metadata": {
        "id": "OapYOEF4_OrQ",
        "outputId": "d281232b-32d0-4592-8a72-a5305a983f5f"
      },
      "outputs": [
        {
          "name": "stdout",
          "output_type": "stream",
          "text": [
            "XGBoost RMSE: 1627.7543455808639\n",
            "Processing time for XGBoost = 42.77\n"
          ]
        }
      ],
      "source": [
        "start_xgb = time.process_time()\n",
        "model_xgb = XGBRegressor(random_state = 12345)\n",
        "model_xgb.fit(features_train_scaled, target_train)\n",
        "predictions_valid_xgb = model_xgb.predict(features_test_scaled)\n",
        "\n",
        "xgb_rmse = (mean_squared_error(target_test, predictions_valid_xgb))**0.5\n",
        "end_xgb = time.process_time()\n",
        "xgb_time = round(end_xgb-start_xgb,2)\n",
        "print(\"XGBoost RMSE:\", xgb_rmse)\n",
        "print(f'Processing time for XGBoost = {xgb_time}')"
      ]
    },
    {
      "cell_type": "code",
      "execution_count": null,
      "metadata": {
        "id": "fDN0X_uV_OrR",
        "outputId": "84e4a3cd-a7ec-45dd-fad0-c88956746c44"
      },
      "outputs": [
        {
          "name": "stdout",
          "output_type": "stream",
          "text": [
            "XGBoost RMSE: 1516.4285798633603\n",
            "Processing time for XGBoost = 249.62\n"
          ]
        }
      ],
      "source": [
        "# Train new XGBoost model using tuned hyperparameters\n",
        "start_xgb = time.process_time()\n",
        "model_xgb = XGBRegressor(n_estimators = 300,\n",
        "                         max_depth = 10,\n",
        "                         learning_rate = 0.1,\n",
        "                         random_state = 12345)\n",
        "model_xgb.fit(features_train_scaled, target_train)\n",
        "predictions_valid_xgb = model_xgb.predict(features_test_scaled)\n",
        "\n",
        "xgb_rmse = (mean_squared_error(target_test, predictions_valid_xgb))**0.5\n",
        "end_xgb = time.process_time()\n",
        "xgb_time = round(end_xgb-start_xgb,2)\n",
        "print(\"XGBoost RMSE:\", xgb_rmse)\n",
        "print(f'Processing time for XGBoost = {xgb_time}')"
      ]
    },
    {
      "cell_type": "markdown",
      "metadata": {
        "id": "Yrx5t69z_OrR"
      },
      "source": [
        "Based on the experiment, it can be seen that the tuned XGBoost model produced an improvement in performance on predicting the data. However, in my opinion, the value of the improvement is not balanced with the significant increase in processing time."
      ]
    },
    {
      "cell_type": "markdown",
      "metadata": {
        "id": "4lKq7mx7_OrR"
      },
      "source": [
        "### LightGBM"
      ]
    },
    {
      "cell_type": "code",
      "execution_count": null,
      "metadata": {
        "id": "WzQD3udZ_OrS",
        "outputId": "65badfa7-7d13-4529-b63a-54fc1167289d"
      },
      "outputs": [
        {
          "name": "stdout",
          "output_type": "stream",
          "text": [
            "LightGBM RMSE: 1714.0351540555143\n",
            "Processing time for LightGBM = 4.98\n"
          ]
        }
      ],
      "source": [
        "start_lgbm = time.process_time()\n",
        "model_lgbm = LGBMRegressor(random_state = 12345)\n",
        "model_lgbm.fit(features_train_scaled, target_train)\n",
        "predictions_valid_lgbm = model_lgbm.predict(features_test_scaled)\n",
        "\n",
        "lgbm_rmse = (mean_squared_error(target_test, predictions_valid_lgbm))**0.5\n",
        "end_lgbm = time.process_time()\n",
        "lgbm_time = round(end_lgbm-start_lgbm,2)\n",
        "print(\"LightGBM RMSE:\", lgbm_rmse)\n",
        "print(f'Processing time for LightGBM = {lgbm_time}')"
      ]
    },
    {
      "cell_type": "code",
      "execution_count": null,
      "metadata": {
        "id": "41uEFMta_OrS",
        "outputId": "6cd5c1cd-4768-4b66-d878-9e0b4f70f445"
      },
      "outputs": [
        {
          "name": "stdout",
          "output_type": "stream",
          "text": [
            "The best paramenets are {'learning_rate': 0.1, 'max_depth': 10, 'n_estimators': 300} with a score of -1636.73\n",
            "LightGBM RMSE: 1625.6025373804491\n"
          ]
        }
      ],
      "source": [
        "# Hyperparameter_tunning for LightGBM\n",
        "param_grid = {'n_estimators': [100, 200, 300],\n",
        "              'max_depth': [3, 5, 10],\n",
        "              'learning_rate': [0.1, 0.01]\n",
        "}\n",
        "\n",
        "lgbm = LGBMRegressor(random_state = 12345)\n",
        "\n",
        "grid = GridSearchCV(estimator = lgbm, \n",
        "                    param_grid = param_grid, \n",
        "                    cv = 5, scoring= 'neg_root_mean_squared_error')\n",
        "\n",
        "grid.fit(features_train_scaled, target_train)\n",
        "predictions_valid = grid.predict(features_test_scaled)\n",
        "rmse = (mean_squared_error(target_test, predictions_valid))**0.5\n",
        "\n",
        "print(\"The best paramenets are %s with a score of %0.2f\"% \n",
        "      (grid.best_params_,grid.best_score_))\n",
        "print(\"LightGBM RMSE:\", rmse)"
      ]
    },
    {
      "cell_type": "code",
      "execution_count": null,
      "metadata": {
        "scrolled": true,
        "id": "cdBYOLnJ_OrS",
        "outputId": "2e3b10ac-cacd-446c-8ef1-e6b5db1ab1ba"
      },
      "outputs": [
        {
          "name": "stdout",
          "output_type": "stream",
          "text": [
            "LightGBM RMSE: 1625.6025373804491\n",
            "Processing time for LightGBM = 11.86\n"
          ]
        }
      ],
      "source": [
        "# Train new LightGBM model using tuned hyperparameters\n",
        "start_lgbm = time.process_time()\n",
        "model_lgbm = LGBMRegressor(n_estimators = 300,\n",
        "                           max_depth = 10,\n",
        "                           learning_rate = 0.1,\n",
        "                           random_state = 12345)\n",
        "model_lgbm.fit(features_train_scaled, target_train)\n",
        "predictions_valid_lgbm = model_lgbm.predict(features_test_scaled)\n",
        "\n",
        "lgbm_rmse = (mean_squared_error(target_test, predictions_valid_lgbm))**0.5\n",
        "end_lgbm = time.process_time()\n",
        "lgbm_time = round(end_lgbm-start_lgbm,2)\n",
        "print(\"LightGBM RMSE:\", lgbm_rmse)\n",
        "print(f'Processing time for LightGBM = {lgbm_time}')"
      ]
    },
    {
      "cell_type": "markdown",
      "metadata": {
        "id": "C6eEFP1s_OrS"
      },
      "source": [
        "Based on the experiment, it can be seen that the LightGBM model produced an outstanding RMSE value with a short processing time, and after tuning, the model's performance increased."
      ]
    },
    {
      "cell_type": "markdown",
      "metadata": {
        "id": "eR-0xZO6_OrT"
      },
      "source": [
        "### CatBoost"
      ]
    },
    {
      "cell_type": "code",
      "execution_count": null,
      "metadata": {
        "id": "ijp0ZrBr_OrT",
        "outputId": "02b2a7e4-deaa-46fa-bd56-b5e6211a3165"
      },
      "outputs": [
        {
          "name": "stdout",
          "output_type": "stream",
          "text": [
            "Learning rate set to 0.097464\n",
            "0:\tlearn: 4248.4107997\ttotal: 53.5ms\tremaining: 53.5s\n",
            "100:\tlearn: 1833.7289999\ttotal: 5.2s\tremaining: 46.2s\n",
            "200:\tlearn: 1738.0595021\ttotal: 10.4s\tremaining: 41.2s\n",
            "300:\tlearn: 1688.5163261\ttotal: 15.5s\tremaining: 35.9s\n",
            "400:\tlearn: 1653.8092934\ttotal: 20.6s\tremaining: 30.7s\n",
            "500:\tlearn: 1627.3673013\ttotal: 25.7s\tremaining: 25.5s\n",
            "600:\tlearn: 1606.6950782\ttotal: 30.7s\tremaining: 20.4s\n",
            "700:\tlearn: 1589.5243180\ttotal: 35.8s\tremaining: 15.3s\n",
            "800:\tlearn: 1574.3440654\ttotal: 40.8s\tremaining: 10.1s\n",
            "900:\tlearn: 1560.1895105\ttotal: 46s\tremaining: 5.05s\n",
            "999:\tlearn: 1548.3070387\ttotal: 50.9s\tremaining: 0us\n",
            "CatBoost RMSE: 1613.5333309376813\n",
            "Processing time for CatBoost = 51.22\n"
          ]
        }
      ],
      "source": [
        "start_cat = time.process_time()\n",
        "model_cat = CatBoostRegressor(random_state = 12345)\n",
        "model_cat.fit(features_train_scaled, target_train, verbose = 100)\n",
        "predictions_valid_cat = model_cat.predict(features_test_scaled)\n",
        "\n",
        "cat_rmse = (mean_squared_error(target_test, predictions_valid_cat))**0.5\n",
        "end_cat = time.process_time()\n",
        "cat_time = round(end_cat-start_cat,2)\n",
        "print(\"CatBoost RMSE:\", cat_rmse)\n",
        "print(f'Processing time for CatBoost = {cat_time}')"
      ]
    },
    {
      "cell_type": "code",
      "execution_count": null,
      "metadata": {
        "id": "AP-Nvpg2_OrT",
        "outputId": "538f3646-0f81-472c-f9b6-96837ff22ef9"
      },
      "outputs": [
        {
          "name": "stderr",
          "output_type": "stream",
          "text": [
            "Custom logger is already specified. Specify more than one logger at same time is not thread safe."
          ]
        },
        {
          "name": "stdout",
          "output_type": "stream",
          "text": [
            "0:\tlearn: 4298.3568644\ttotal: 30ms\tremaining: 2.97s\n",
            "50:\tlearn: 2189.7695369\ttotal: 1.43s\tremaining: 1.37s\n",
            "99:\tlearn: 2036.7798413\ttotal: 2.74s\tremaining: 0us\n",
            "0:\tlearn: 4298.7306575\ttotal: 31.8ms\tremaining: 3.15s\n",
            "50:\tlearn: 2190.6469640\ttotal: 1.46s\tremaining: 1.4s\n",
            "99:\tlearn: 2033.8532021\ttotal: 2.75s\tremaining: 0us\n",
            "0:\tlearn: 4296.0206678\ttotal: 32.1ms\tremaining: 3.17s\n",
            "50:\tlearn: 2192.4910772\ttotal: 1.46s\tremaining: 1.4s\n",
            "99:\tlearn: 2036.0716394\ttotal: 2.78s\tremaining: 0us\n",
            "0:\tlearn: 4302.5729597\ttotal: 33.9ms\tremaining: 3.36s\n",
            "50:\tlearn: 2193.2474468\ttotal: 1.45s\tremaining: 1.39s\n",
            "99:\tlearn: 2039.3060600\ttotal: 2.74s\tremaining: 0us\n",
            "0:\tlearn: 4299.1547248\ttotal: 29.7ms\tremaining: 2.94s\n",
            "50:\tlearn: 2203.5150518\ttotal: 1.44s\tremaining: 1.38s\n",
            "99:\tlearn: 2044.7048171\ttotal: 2.72s\tremaining: 0us\n",
            "0:\tlearn: 4508.6712808\ttotal: 28ms\tremaining: 2.77s\n",
            "50:\tlearn: 3614.7162843\ttotal: 1.53s\tremaining: 1.47s\n",
            "99:\tlearn: 3112.1637228\ttotal: 3.04s\tremaining: 0us\n",
            "0:\tlearn: 4511.1850457\ttotal: 31.3ms\tremaining: 3.09s\n",
            "50:\tlearn: 3613.4946597\ttotal: 1.56s\tremaining: 1.5s\n",
            "99:\tlearn: 3110.1306570\ttotal: 3.06s\tremaining: 0us\n",
            "0:\tlearn: 4507.1281558\ttotal: 30.6ms\tremaining: 3.03s\n",
            "50:\tlearn: 3614.5557750\ttotal: 1.48s\tremaining: 1.42s\n",
            "99:\tlearn: 3111.5000829\ttotal: 2.92s\tremaining: 0us\n",
            "0:\tlearn: 4513.6572957\ttotal: 30.8ms\tremaining: 3.05s\n",
            "50:\tlearn: 3617.7631584\ttotal: 1.51s\tremaining: 1.46s\n",
            "99:\tlearn: 3114.6644257\ttotal: 2.97s\tremaining: 0us\n",
            "0:\tlearn: 4510.2312541\ttotal: 31.9ms\tremaining: 3.16s\n",
            "50:\tlearn: 3614.9245786\ttotal: 1.55s\tremaining: 1.49s\n",
            "99:\tlearn: 3113.0283173\ttotal: 3.06s\tremaining: 0us\n",
            "0:\tlearn: 4298.3568644\ttotal: 31.7ms\tremaining: 4.72s\n",
            "50:\tlearn: 2189.7695369\ttotal: 1.43s\tremaining: 2.78s\n",
            "100:\tlearn: 2034.8588897\ttotal: 2.8s\tremaining: 1.36s\n",
            "149:\tlearn: 1958.5464383\ttotal: 4.12s\tremaining: 0us\n",
            "0:\tlearn: 4298.7306575\ttotal: 30.8ms\tremaining: 4.59s\n",
            "50:\tlearn: 2190.6469640\ttotal: 1.41s\tremaining: 2.73s\n",
            "100:\tlearn: 2032.2066204\ttotal: 2.7s\tremaining: 1.31s\n",
            "149:\tlearn: 1955.6066742\ttotal: 4.04s\tremaining: 0us\n",
            "0:\tlearn: 4296.0206678\ttotal: 29.4ms\tremaining: 4.37s\n",
            "50:\tlearn: 2192.4910772\ttotal: 1.44s\tremaining: 2.8s\n",
            "100:\tlearn: 2033.8902527\ttotal: 2.77s\tremaining: 1.34s\n",
            "149:\tlearn: 1958.0648664\ttotal: 4.12s\tremaining: 0us\n",
            "0:\tlearn: 4302.5729597\ttotal: 29.2ms\tremaining: 4.35s\n",
            "50:\tlearn: 2193.2474468\ttotal: 1.44s\tremaining: 2.79s\n",
            "100:\tlearn: 2037.1026763\ttotal: 2.75s\tremaining: 1.33s\n",
            "149:\tlearn: 1963.6432279\ttotal: 4.07s\tremaining: 0us\n",
            "0:\tlearn: 4299.1547248\ttotal: 32.9ms\tremaining: 4.9s\n",
            "50:\tlearn: 2203.5150518\ttotal: 1.45s\tremaining: 2.81s\n",
            "100:\tlearn: 2042.5230779\ttotal: 2.79s\tremaining: 1.35s\n",
            "149:\tlearn: 1962.6978589\ttotal: 4.16s\tremaining: 0us\n",
            "0:\tlearn: 4508.6712808\ttotal: 27.2ms\tremaining: 4.05s\n",
            "50:\tlearn: 3614.7162843\ttotal: 1.47s\tremaining: 2.85s\n",
            "100:\tlearn: 3104.5967961\ttotal: 2.95s\tremaining: 1.43s\n",
            "149:\tlearn: 2803.2263278\ttotal: 4.37s\tremaining: 0us\n",
            "0:\tlearn: 4511.1850457\ttotal: 31.3ms\tremaining: 4.66s\n",
            "50:\tlearn: 3613.4946597\ttotal: 1.48s\tremaining: 2.88s\n",
            "100:\tlearn: 3102.7647631\ttotal: 2.98s\tremaining: 1.44s\n",
            "149:\tlearn: 2803.5715962\ttotal: 4.39s\tremaining: 0us\n",
            "0:\tlearn: 4507.1281558\ttotal: 31.9ms\tremaining: 4.75s\n",
            "50:\tlearn: 3614.5557750\ttotal: 1.59s\tremaining: 3.08s\n",
            "100:\tlearn: 3104.2931317\ttotal: 3.13s\tremaining: 1.52s\n",
            "149:\tlearn: 2803.2136551\ttotal: 4.67s\tremaining: 0us\n",
            "0:\tlearn: 4513.6572957\ttotal: 30.1ms\tremaining: 4.49s\n",
            "50:\tlearn: 3617.7631584\ttotal: 1.55s\tremaining: 3.02s\n",
            "100:\tlearn: 3107.4789903\ttotal: 3.07s\tremaining: 1.49s\n",
            "149:\tlearn: 2809.3865438\ttotal: 4.5s\tremaining: 0us\n",
            "0:\tlearn: 4510.2312541\ttotal: 33.9ms\tremaining: 5.04s\n",
            "50:\tlearn: 3614.9245786\ttotal: 1.51s\tremaining: 2.93s\n",
            "100:\tlearn: 3105.9556338\ttotal: 3.02s\tremaining: 1.46s\n",
            "149:\tlearn: 2805.6565247\ttotal: 4.44s\tremaining: 0us\n",
            "0:\tlearn: 4298.3568644\ttotal: 29.2ms\tremaining: 5.8s\n",
            "50:\tlearn: 2189.7695369\ttotal: 1.42s\tremaining: 4.15s\n",
            "100:\tlearn: 2034.8588897\ttotal: 2.76s\tremaining: 2.7s\n",
            "150:\tlearn: 1957.8488377\ttotal: 4.12s\tremaining: 1.33s\n",
            "199:\tlearn: 1910.7351098\ttotal: 5.45s\tremaining: 0us\n",
            "0:\tlearn: 4298.7306575\ttotal: 30.4ms\tremaining: 6.05s\n",
            "50:\tlearn: 2190.6469640\ttotal: 1.44s\tremaining: 4.21s\n",
            "100:\tlearn: 2032.2066204\ttotal: 2.76s\tremaining: 2.71s\n",
            "150:\tlearn: 1953.5649521\ttotal: 4.14s\tremaining: 1.34s\n",
            "199:\tlearn: 1906.3888649\ttotal: 5.5s\tremaining: 0us\n",
            "0:\tlearn: 4296.0206678\ttotal: 31.3ms\tremaining: 6.22s\n",
            "50:\tlearn: 2192.4910772\ttotal: 1.46s\tremaining: 4.27s\n",
            "100:\tlearn: 2033.8902527\ttotal: 2.82s\tremaining: 2.77s\n",
            "150:\tlearn: 1956.6546107\ttotal: 4.21s\tremaining: 1.36s\n",
            "199:\tlearn: 1909.4996141\ttotal: 5.59s\tremaining: 0us\n",
            "0:\tlearn: 4302.5729597\ttotal: 31ms\tremaining: 6.18s\n",
            "50:\tlearn: 2193.2474468\ttotal: 1.44s\tremaining: 4.21s\n",
            "100:\tlearn: 2037.1026763\ttotal: 2.75s\tremaining: 2.7s\n",
            "150:\tlearn: 1962.0368183\ttotal: 4.08s\tremaining: 1.32s\n",
            "199:\tlearn: 1913.8173360\ttotal: 5.4s\tremaining: 0us\n",
            "0:\tlearn: 4299.1547248\ttotal: 32.5ms\tremaining: 6.47s\n",
            "50:\tlearn: 2203.5150518\ttotal: 1.44s\tremaining: 4.2s\n",
            "100:\tlearn: 2042.5230779\ttotal: 2.75s\tremaining: 2.7s\n",
            "150:\tlearn: 1961.5877279\ttotal: 4.1s\tremaining: 1.33s\n",
            "199:\tlearn: 1916.0751793\ttotal: 5.44s\tremaining: 0us\n",
            "0:\tlearn: 4508.6712808\ttotal: 26.3ms\tremaining: 5.24s\n",
            "50:\tlearn: 3614.7162843\ttotal: 1.54s\tremaining: 4.51s\n",
            "100:\tlearn: 3104.5967961\ttotal: 3.07s\tremaining: 3.01s\n",
            "150:\tlearn: 2797.7569310\ttotal: 4.57s\tremaining: 1.48s\n",
            "199:\tlearn: 2603.0610611\ttotal: 6s\tremaining: 0us\n",
            "0:\tlearn: 4511.1850457\ttotal: 31ms\tremaining: 6.18s\n",
            "50:\tlearn: 3613.4946597\ttotal: 1.55s\tremaining: 4.54s\n",
            "100:\tlearn: 3102.7647631\ttotal: 3.08s\tremaining: 3.02s\n",
            "150:\tlearn: 2798.0597238\ttotal: 4.58s\tremaining: 1.49s\n",
            "199:\tlearn: 2601.7878932\ttotal: 6s\tremaining: 0us\n",
            "0:\tlearn: 4507.1281558\ttotal: 31.7ms\tremaining: 6.3s\n",
            "50:\tlearn: 3614.5557750\ttotal: 1.53s\tremaining: 4.47s\n",
            "100:\tlearn: 3104.2931317\ttotal: 3.03s\tremaining: 2.97s\n",
            "150:\tlearn: 2797.7120701\ttotal: 4.47s\tremaining: 1.45s\n",
            "199:\tlearn: 2602.6054841\ttotal: 5.87s\tremaining: 0us\n",
            "0:\tlearn: 4513.6572957\ttotal: 29.8ms\tremaining: 5.92s\n",
            "50:\tlearn: 3617.7631584\ttotal: 1.5s\tremaining: 4.39s\n",
            "100:\tlearn: 3107.4789903\ttotal: 2.96s\tremaining: 2.9s\n",
            "150:\tlearn: 2804.3933654\ttotal: 4.41s\tremaining: 1.43s\n",
            "199:\tlearn: 2606.2581057\ttotal: 5.82s\tremaining: 0us\n",
            "0:\tlearn: 4510.2312541\ttotal: 32.9ms\tremaining: 6.55s\n",
            "50:\tlearn: 3614.9245786\ttotal: 1.57s\tremaining: 4.59s\n",
            "100:\tlearn: 3105.9556338\ttotal: 3.12s\tremaining: 3.06s\n",
            "150:\tlearn: 2800.1622984\ttotal: 4.61s\tremaining: 1.5s\n",
            "199:\tlearn: 2604.7259845\ttotal: 6.03s\tremaining: 0us\n",
            "0:\tlearn: 4262.6170627\ttotal: 38.6ms\tremaining: 3.83s\n",
            "50:\tlearn: 2018.0219484\ttotal: 1.84s\tremaining: 1.77s\n",
            "99:\tlearn: 1880.0238606\ttotal: 3.59s\tremaining: 0us\n",
            "0:\tlearn: 4266.9827382\ttotal: 35.3ms\tremaining: 3.49s\n",
            "50:\tlearn: 2020.0310648\ttotal: 1.81s\tremaining: 1.74s\n",
            "99:\tlearn: 1886.8945465\ttotal: 3.49s\tremaining: 0us\n",
            "0:\tlearn: 4262.4399103\ttotal: 35ms\tremaining: 3.47s\n",
            "50:\tlearn: 2015.3646076\ttotal: 1.89s\tremaining: 1.81s\n",
            "99:\tlearn: 1880.2922342\ttotal: 3.63s\tremaining: 0us\n",
            "0:\tlearn: 4267.8079263\ttotal: 40.7ms\tremaining: 4.02s\n",
            "50:\tlearn: 2024.3655067\ttotal: 1.89s\tremaining: 1.81s\n",
            "99:\tlearn: 1887.0202692\ttotal: 3.63s\tremaining: 0us\n",
            "0:\tlearn: 4263.4728992\ttotal: 39.5ms\tremaining: 3.91s\n",
            "50:\tlearn: 2025.2029990\ttotal: 1.88s\tremaining: 1.81s\n",
            "99:\tlearn: 1888.9762360\ttotal: 3.59s\tremaining: 0us\n",
            "0:\tlearn: 4505.1167199\ttotal: 38.9ms\tremaining: 3.85s\n",
            "50:\tlearn: 3459.0017580\ttotal: 2.02s\tremaining: 1.94s\n",
            "99:\tlearn: 2887.4575597\ttotal: 3.92s\tremaining: 0us\n",
            "0:\tlearn: 4508.0276467\ttotal: 35.5ms\tremaining: 3.52s\n",
            "50:\tlearn: 3464.8942973\ttotal: 2.01s\tremaining: 1.93s\n",
            "99:\tlearn: 2887.1086467\ttotal: 3.9s\tremaining: 0us\n",
            "0:\tlearn: 4503.7881207\ttotal: 40.7ms\tremaining: 4.03s\n",
            "50:\tlearn: 3456.9712941\ttotal: 2.05s\tremaining: 1.97s\n",
            "99:\tlearn: 2886.0558974\ttotal: 4s\tremaining: 0us\n",
            "0:\tlearn: 4510.1996275\ttotal: 44.5ms\tremaining: 4.4s\n",
            "50:\tlearn: 3462.6317051\ttotal: 1.99s\tremaining: 1.91s\n",
            "99:\tlearn: 2891.6928469\ttotal: 3.9s\tremaining: 0us\n",
            "0:\tlearn: 4506.6828195\ttotal: 36.7ms\tremaining: 3.63s\n",
            "50:\tlearn: 3463.2591391\ttotal: 2.1s\tremaining: 2.01s\n",
            "99:\tlearn: 2889.8281196\ttotal: 4.09s\tremaining: 0us\n",
            "0:\tlearn: 4262.6170627\ttotal: 39ms\tremaining: 5.82s\n",
            "50:\tlearn: 2018.0219484\ttotal: 1.86s\tremaining: 3.61s\n",
            "100:\tlearn: 1878.6902589\ttotal: 3.65s\tremaining: 1.77s\n",
            "149:\tlearn: 1818.6288830\ttotal: 5.45s\tremaining: 0us\n",
            "0:\tlearn: 4266.9827382\ttotal: 39.3ms\tremaining: 5.85s\n",
            "50:\tlearn: 2020.0310648\ttotal: 1.88s\tremaining: 3.65s\n",
            "100:\tlearn: 1885.3069024\ttotal: 3.76s\tremaining: 1.82s\n",
            "149:\tlearn: 1821.5418716\ttotal: 5.55s\tremaining: 0us\n",
            "0:\tlearn: 4262.4399103\ttotal: 37.4ms\tremaining: 5.58s\n",
            "50:\tlearn: 2015.3646076\ttotal: 1.94s\tremaining: 3.77s\n",
            "100:\tlearn: 1878.9732127\ttotal: 3.75s\tremaining: 1.82s\n",
            "149:\tlearn: 1817.5460967\ttotal: 5.54s\tremaining: 0us\n",
            "0:\tlearn: 4267.8079263\ttotal: 35.9ms\tremaining: 5.35s\n",
            "50:\tlearn: 2024.3655067\ttotal: 1.86s\tremaining: 3.62s\n",
            "100:\tlearn: 1885.8769229\ttotal: 3.7s\tremaining: 1.8s\n",
            "149:\tlearn: 1825.7526262\ttotal: 5.49s\tremaining: 0us\n",
            "0:\tlearn: 4263.4728992\ttotal: 36.8ms\tremaining: 5.48s\n",
            "50:\tlearn: 2025.2029990\ttotal: 1.91s\tremaining: 3.7s\n",
            "100:\tlearn: 1887.4612786\ttotal: 3.71s\tremaining: 1.8s\n",
            "149:\tlearn: 1826.6182269\ttotal: 5.5s\tremaining: 0us\n",
            "0:\tlearn: 4505.1167199\ttotal: 40.4ms\tremaining: 6.03s\n",
            "50:\tlearn: 3459.0017580\ttotal: 2.02s\tremaining: 3.93s\n",
            "100:\tlearn: 2878.5707719\ttotal: 3.98s\tremaining: 1.93s\n",
            "149:\tlearn: 2565.3643274\ttotal: 5.91s\tremaining: 0us\n",
            "0:\tlearn: 4508.0276467\ttotal: 38.4ms\tremaining: 5.72s\n",
            "50:\tlearn: 3464.8942973\ttotal: 2.04s\tremaining: 3.96s\n",
            "100:\tlearn: 2878.9178539\ttotal: 3.99s\tremaining: 1.94s\n",
            "149:\tlearn: 2565.1103077\ttotal: 5.88s\tremaining: 0us\n",
            "0:\tlearn: 4503.7881207\ttotal: 35.4ms\tremaining: 5.28s\n",
            "50:\tlearn: 3456.9712941\ttotal: 2.12s\tremaining: 4.12s\n",
            "100:\tlearn: 2877.8611549\ttotal: 4.13s\tremaining: 2s\n",
            "149:\tlearn: 2566.7524431\ttotal: 6.08s\tremaining: 0us\n",
            "0:\tlearn: 4510.1996275\ttotal: 36.4ms\tremaining: 5.42s\n",
            "50:\tlearn: 3462.6317051\ttotal: 2.03s\tremaining: 3.94s\n",
            "100:\tlearn: 2883.5422889\ttotal: 4.06s\tremaining: 1.97s\n",
            "149:\tlearn: 2570.6439769\ttotal: 6s\tremaining: 0us\n",
            "0:\tlearn: 4506.6828195\ttotal: 41.4ms\tremaining: 6.17s\n",
            "50:\tlearn: 3463.2591391\ttotal: 2.01s\tremaining: 3.91s\n",
            "100:\tlearn: 2880.8271493\ttotal: 3.99s\tremaining: 1.93s\n",
            "149:\tlearn: 2569.9860941\ttotal: 5.89s\tremaining: 0us\n",
            "0:\tlearn: 4262.6170627\ttotal: 37.8ms\tremaining: 7.52s\n",
            "50:\tlearn: 2018.0219484\ttotal: 1.85s\tremaining: 5.41s\n",
            "100:\tlearn: 1878.6902589\ttotal: 3.66s\tremaining: 3.59s\n",
            "150:\tlearn: 1817.7869775\ttotal: 5.48s\tremaining: 1.78s\n",
            "199:\tlearn: 1778.5182947\ttotal: 7.27s\tremaining: 0us\n",
            "0:\tlearn: 4266.9827382\ttotal: 36.7ms\tremaining: 7.31s\n",
            "50:\tlearn: 2020.0310648\ttotal: 1.8s\tremaining: 5.27s\n",
            "100:\tlearn: 1885.3069024\ttotal: 3.5s\tremaining: 3.43s\n",
            "150:\tlearn: 1820.5787406\ttotal: 5.29s\tremaining: 1.72s\n",
            "199:\tlearn: 1781.6580112\ttotal: 7s\tremaining: 0us\n",
            "0:\tlearn: 4262.4399103\ttotal: 39.9ms\tremaining: 7.95s\n",
            "50:\tlearn: 2015.3646076\ttotal: 1.85s\tremaining: 5.42s\n",
            "100:\tlearn: 1878.9732127\ttotal: 3.64s\tremaining: 3.56s\n",
            "150:\tlearn: 1816.5755784\ttotal: 5.38s\tremaining: 1.75s\n",
            "199:\tlearn: 1778.9013826\ttotal: 7.12s\tremaining: 0us\n",
            "0:\tlearn: 4267.8079263\ttotal: 40.3ms\tremaining: 8.01s\n",
            "50:\tlearn: 2024.3655067\ttotal: 1.86s\tremaining: 5.44s\n",
            "100:\tlearn: 1885.8769229\ttotal: 3.61s\tremaining: 3.54s\n",
            "150:\tlearn: 1824.7418001\ttotal: 5.34s\tremaining: 1.73s\n",
            "199:\tlearn: 1786.0327086\ttotal: 7.04s\tremaining: 0us\n",
            "0:\tlearn: 4263.4728992\ttotal: 40.4ms\tremaining: 8.04s\n",
            "50:\tlearn: 2025.2029990\ttotal: 1.89s\tremaining: 5.51s\n",
            "100:\tlearn: 1887.4612786\ttotal: 3.66s\tremaining: 3.58s\n",
            "150:\tlearn: 1825.4228918\ttotal: 5.44s\tremaining: 1.77s\n",
            "199:\tlearn: 1787.4380388\ttotal: 7.19s\tremaining: 0us\n",
            "0:\tlearn: 4505.1167199\ttotal: 38.3ms\tremaining: 7.63s\n",
            "50:\tlearn: 3459.0017580\ttotal: 2.04s\tremaining: 5.95s\n",
            "100:\tlearn: 2878.5707719\ttotal: 3.98s\tremaining: 3.9s\n",
            "150:\tlearn: 2560.6215828\ttotal: 5.99s\tremaining: 1.94s\n",
            "199:\tlearn: 2380.3691254\ttotal: 7.83s\tremaining: 0us\n",
            "0:\tlearn: 4508.0276467\ttotal: 36.8ms\tremaining: 7.31s\n",
            "50:\tlearn: 3464.8942973\ttotal: 1.97s\tremaining: 5.75s\n",
            "100:\tlearn: 2878.9178539\ttotal: 3.88s\tremaining: 3.81s\n",
            "150:\tlearn: 2560.5440769\ttotal: 5.78s\tremaining: 1.87s\n",
            "199:\tlearn: 2379.8792636\ttotal: 7.62s\tremaining: 0us\n",
            "0:\tlearn: 4503.7881207\ttotal: 39.3ms\tremaining: 7.83s\n",
            "50:\tlearn: 3456.9712941\ttotal: 2.04s\tremaining: 5.96s\n",
            "100:\tlearn: 2877.8611549\ttotal: 4s\tremaining: 3.92s\n",
            "150:\tlearn: 2561.7602919\ttotal: 5.96s\tremaining: 1.94s\n",
            "199:\tlearn: 2380.8568033\ttotal: 7.75s\tremaining: 0us\n",
            "0:\tlearn: 4510.1996275\ttotal: 41.2ms\tremaining: 8.19s\n",
            "50:\tlearn: 3462.6317051\ttotal: 2.03s\tremaining: 5.94s\n",
            "100:\tlearn: 2883.5422889\ttotal: 3.99s\tremaining: 3.91s\n",
            "150:\tlearn: 2565.7803240\ttotal: 5.91s\tremaining: 1.92s\n",
            "199:\tlearn: 2385.0978018\ttotal: 7.78s\tremaining: 0us\n",
            "0:\tlearn: 4506.6828195\ttotal: 36.6ms\tremaining: 7.28s\n",
            "50:\tlearn: 3463.2591391\ttotal: 2.09s\tremaining: 6.11s\n",
            "100:\tlearn: 2880.8271493\ttotal: 4.15s\tremaining: 4.07s\n",
            "150:\tlearn: 2565.0241279\ttotal: 6.16s\tremaining: 2s\n",
            "199:\tlearn: 2385.6231749\ttotal: 8.02s\tremaining: 0us\n",
            "0:\tlearn: 4215.8800996\ttotal: 136ms\tremaining: 13.4s\n",
            "50:\tlearn: 1786.7620044\ttotal: 6.8s\tremaining: 6.54s\n",
            "99:\tlearn: 1674.9599069\ttotal: 13.3s\tremaining: 0us\n",
            "0:\tlearn: 4218.1655121\ttotal: 130ms\tremaining: 12.9s\n",
            "50:\tlearn: 1788.6201772\ttotal: 6.79s\tremaining: 6.52s\n",
            "99:\tlearn: 1679.2290287\ttotal: 13.3s\tremaining: 0us\n",
            "0:\tlearn: 4220.1128047\ttotal: 127ms\tremaining: 12.6s\n",
            "50:\tlearn: 1789.8979733\ttotal: 6.76s\tremaining: 6.49s\n",
            "99:\tlearn: 1679.6597435\ttotal: 13.2s\tremaining: 0us\n",
            "0:\tlearn: 4220.4294839\ttotal: 138ms\tremaining: 13.7s\n",
            "50:\tlearn: 1788.2144561\ttotal: 6.76s\tremaining: 6.5s\n",
            "99:\tlearn: 1677.5634945\ttotal: 13.3s\tremaining: 0us\n",
            "0:\tlearn: 4217.7646003\ttotal: 132ms\tremaining: 13.1s\n",
            "50:\tlearn: 1798.0085551\ttotal: 6.78s\tremaining: 6.51s\n",
            "99:\tlearn: 1688.2581305\ttotal: 13.4s\tremaining: 0us\n",
            "0:\tlearn: 4500.5119584\ttotal: 128ms\tremaining: 12.6s\n",
            "50:\tlearn: 3294.5848653\ttotal: 6.79s\tremaining: 6.52s\n",
            "99:\tlearn: 2650.7308130\ttotal: 13.3s\tremaining: 0us\n",
            "0:\tlearn: 4503.2158454\ttotal: 134ms\tremaining: 13.3s\n",
            "50:\tlearn: 3295.5994303\ttotal: 6.75s\tremaining: 6.49s\n",
            "99:\tlearn: 2650.5178624\ttotal: 13.3s\tremaining: 0us\n",
            "0:\tlearn: 4499.6151627\ttotal: 124ms\tremaining: 12.3s\n",
            "50:\tlearn: 3292.7120777\ttotal: 6.75s\tremaining: 6.48s\n",
            "99:\tlearn: 2649.4282463\ttotal: 13.3s\tremaining: 0us\n",
            "0:\tlearn: 4505.5300689\ttotal: 134ms\tremaining: 13.3s\n",
            "50:\tlearn: 3297.4678760\ttotal: 6.8s\tremaining: 6.53s\n",
            "99:\tlearn: 2654.6016139\ttotal: 13.3s\tremaining: 0us\n",
            "0:\tlearn: 4502.1778257\ttotal: 136ms\tremaining: 13.4s\n",
            "50:\tlearn: 3298.3398922\ttotal: 6.8s\tremaining: 6.53s\n",
            "99:\tlearn: 2655.4007818\ttotal: 13.3s\tremaining: 0us\n",
            "0:\tlearn: 4215.8800996\ttotal: 129ms\tremaining: 19.2s\n",
            "50:\tlearn: 1786.7620044\ttotal: 6.74s\tremaining: 13.1s\n",
            "100:\tlearn: 1673.3101282\ttotal: 13.4s\tremaining: 6.48s\n",
            "149:\tlearn: 1614.7549638\ttotal: 19.9s\tremaining: 0us\n",
            "0:\tlearn: 4218.1655121\ttotal: 130ms\tremaining: 19.3s\n",
            "50:\tlearn: 1788.6201772\ttotal: 6.8s\tremaining: 13.2s\n",
            "100:\tlearn: 1678.0325113\ttotal: 13.4s\tremaining: 6.52s\n",
            "149:\tlearn: 1621.2414247\ttotal: 19.8s\tremaining: 0us\n",
            "0:\tlearn: 4220.1128047\ttotal: 118ms\tremaining: 17.6s\n",
            "50:\tlearn: 1789.8979733\ttotal: 6.76s\tremaining: 13.1s\n",
            "100:\tlearn: 1677.7045205\ttotal: 13.4s\tremaining: 6.5s\n",
            "149:\tlearn: 1620.2805363\ttotal: 19.8s\tremaining: 0us\n",
            "0:\tlearn: 4220.4294839\ttotal: 136ms\tremaining: 20.2s\n",
            "50:\tlearn: 1788.2144561\ttotal: 6.75s\tremaining: 13.1s\n",
            "100:\tlearn: 1675.5302377\ttotal: 13.4s\tremaining: 6.5s\n",
            "149:\tlearn: 1615.7228836\ttotal: 19.9s\tremaining: 0us\n",
            "0:\tlearn: 4217.7646003\ttotal: 135ms\tremaining: 20.1s\n",
            "50:\tlearn: 1798.0085551\ttotal: 6.8s\tremaining: 13.2s\n",
            "100:\tlearn: 1686.8140307\ttotal: 13.4s\tremaining: 6.52s\n",
            "149:\tlearn: 1623.8711469\ttotal: 20s\tremaining: 0us\n",
            "0:\tlearn: 4500.5119584\ttotal: 131ms\tremaining: 19.6s\n",
            "50:\tlearn: 3294.5848653\ttotal: 6.83s\tremaining: 13.3s\n",
            "100:\tlearn: 2641.3440211\ttotal: 13.5s\tremaining: 6.56s\n",
            "149:\tlearn: 2300.2421597\ttotal: 20s\tremaining: 0us\n",
            "0:\tlearn: 4503.2158454\ttotal: 133ms\tremaining: 19.9s\n",
            "50:\tlearn: 3295.5994303\ttotal: 6.79s\tremaining: 13.2s\n",
            "100:\tlearn: 2641.1890494\ttotal: 13.5s\tremaining: 6.53s\n",
            "149:\tlearn: 2300.1556124\ttotal: 19.9s\tremaining: 0us\n",
            "0:\tlearn: 4499.6151627\ttotal: 135ms\tremaining: 20.1s\n",
            "50:\tlearn: 3292.7120777\ttotal: 6.81s\tremaining: 13.2s\n",
            "100:\tlearn: 2639.5751022\ttotal: 13.5s\tremaining: 6.56s\n",
            "149:\tlearn: 2299.5939012\ttotal: 20.1s\tremaining: 0us\n",
            "0:\tlearn: 4505.5300689\ttotal: 136ms\tremaining: 20.2s\n",
            "50:\tlearn: 3297.4678760\ttotal: 6.73s\tremaining: 13.1s\n",
            "100:\tlearn: 2645.3037091\ttotal: 13.4s\tremaining: 6.52s\n",
            "149:\tlearn: 2304.3206995\ttotal: 19.9s\tremaining: 0us\n",
            "0:\tlearn: 4502.1778257\ttotal: 125ms\tremaining: 18.6s\n",
            "50:\tlearn: 3298.3398922\ttotal: 6.82s\tremaining: 13.2s\n",
            "100:\tlearn: 2645.6198448\ttotal: 13.5s\tremaining: 6.54s\n",
            "149:\tlearn: 2308.9710081\ttotal: 20s\tremaining: 0us\n",
            "0:\tlearn: 4215.8800996\ttotal: 126ms\tremaining: 25s\n",
            "50:\tlearn: 1786.7620044\ttotal: 6.77s\tremaining: 19.8s\n",
            "100:\tlearn: 1673.3101282\ttotal: 13.5s\tremaining: 13.2s\n",
            "150:\tlearn: 1613.6619857\ttotal: 20.2s\tremaining: 6.55s\n",
            "199:\tlearn: 1570.2336450\ttotal: 26.7s\tremaining: 0us\n",
            "0:\tlearn: 4218.1655121\ttotal: 132ms\tremaining: 26.3s\n",
            "50:\tlearn: 1788.6201772\ttotal: 6.81s\tremaining: 19.9s\n",
            "100:\tlearn: 1678.0325113\ttotal: 13.5s\tremaining: 13.3s\n",
            "150:\tlearn: 1620.0722516\ttotal: 20.2s\tremaining: 6.55s\n",
            "199:\tlearn: 1575.9104707\ttotal: 26.7s\tremaining: 0us\n",
            "0:\tlearn: 4220.1128047\ttotal: 134ms\tremaining: 26.7s\n",
            "50:\tlearn: 1789.8979733\ttotal: 6.82s\tremaining: 19.9s\n",
            "100:\tlearn: 1677.7045205\ttotal: 13.5s\tremaining: 13.2s\n",
            "150:\tlearn: 1619.0267279\ttotal: 20.1s\tremaining: 6.53s\n",
            "199:\tlearn: 1574.9672936\ttotal: 26.6s\tremaining: 0us\n",
            "0:\tlearn: 4220.4294839\ttotal: 137ms\tremaining: 27.2s\n",
            "50:\tlearn: 1788.2144561\ttotal: 6.81s\tremaining: 19.9s\n",
            "100:\tlearn: 1675.5302377\ttotal: 13.5s\tremaining: 13.3s\n",
            "150:\tlearn: 1614.7770936\ttotal: 20.2s\tremaining: 6.55s\n",
            "199:\tlearn: 1570.5300603\ttotal: 26.7s\tremaining: 0us\n",
            "0:\tlearn: 4217.7646003\ttotal: 136ms\tremaining: 27s\n",
            "50:\tlearn: 1798.0085551\ttotal: 6.8s\tremaining: 19.9s\n",
            "100:\tlearn: 1686.8140307\ttotal: 13.5s\tremaining: 13.2s\n",
            "150:\tlearn: 1623.4364365\ttotal: 20.2s\tremaining: 6.54s\n",
            "199:\tlearn: 1579.1946796\ttotal: 26.7s\tremaining: 0us\n",
            "0:\tlearn: 4500.5119584\ttotal: 111ms\tremaining: 22.1s\n",
            "50:\tlearn: 3294.5848653\ttotal: 6.92s\tremaining: 20.2s\n",
            "100:\tlearn: 2641.3440211\ttotal: 13.7s\tremaining: 13.4s\n",
            "150:\tlearn: 2295.3239807\ttotal: 20.3s\tremaining: 6.59s\n",
            "199:\tlearn: 2110.9440127\ttotal: 26.9s\tremaining: 0us\n",
            "0:\tlearn: 4503.2158454\ttotal: 135ms\tremaining: 26.9s\n",
            "50:\tlearn: 3295.5994303\ttotal: 6.93s\tremaining: 20.2s\n",
            "100:\tlearn: 2641.1890494\ttotal: 13.7s\tremaining: 13.4s\n",
            "150:\tlearn: 2295.4278526\ttotal: 20.4s\tremaining: 6.63s\n",
            "199:\tlearn: 2111.1809140\ttotal: 27s\tremaining: 0us\n",
            "0:\tlearn: 4499.6151627\ttotal: 135ms\tremaining: 26.8s\n",
            "50:\tlearn: 3292.7120777\ttotal: 6.88s\tremaining: 20.1s\n",
            "100:\tlearn: 2639.5751022\ttotal: 13.6s\tremaining: 13.3s\n",
            "150:\tlearn: 2294.8087072\ttotal: 20.2s\tremaining: 6.56s\n",
            "199:\tlearn: 2108.0861066\ttotal: 26.7s\tremaining: 0us\n",
            "0:\tlearn: 4505.5300689\ttotal: 138ms\tremaining: 27.4s\n",
            "50:\tlearn: 3297.4678760\ttotal: 6.87s\tremaining: 20.1s\n",
            "100:\tlearn: 2645.3037091\ttotal: 13.6s\tremaining: 13.3s\n",
            "150:\tlearn: 2299.3599325\ttotal: 20.3s\tremaining: 6.59s\n",
            "199:\tlearn: 2114.0149875\ttotal: 26.8s\tremaining: 0us\n",
            "0:\tlearn: 4502.1778257\ttotal: 135ms\tremaining: 26.9s\n",
            "50:\tlearn: 3298.3398922\ttotal: 6.87s\tremaining: 20.1s\n",
            "100:\tlearn: 2645.6198448\ttotal: 13.7s\tremaining: 13.4s\n",
            "150:\tlearn: 2304.1261990\ttotal: 20.4s\tremaining: 6.63s\n",
            "199:\tlearn: 2119.1240197\ttotal: 27s\tremaining: 0us\n",
            "0:\tlearn: 4215.4502404\ttotal: 167ms\tremaining: 33.2s\n",
            "50:\tlearn: 1792.6112055\ttotal: 8.44s\tremaining: 24.7s\n",
            "100:\tlearn: 1685.1834209\ttotal: 16.7s\tremaining: 16.3s\n",
            "150:\tlearn: 1626.8572452\ttotal: 24.8s\tremaining: 8.06s\n",
            "199:\tlearn: 1585.5321706\ttotal: 32.9s\tremaining: 0us\n",
            "The best paramenets are {'depth': 10, 'iterations': 200, 'learning_rate': 0.1} with a score of -1654.58\n",
            "CatBoost RMSE: 1637.311392402146\n"
          ]
        }
      ],
      "source": [
        "# Hyperparameter_tunning for CatBoost\n",
        "param_grid = {'iterations': [100, 150, 200],\n",
        "              'depth': [3, 5, 10],\n",
        "              'learning_rate': [0.1, 0.01]\n",
        "}\n",
        "\n",
        "cat = CatBoostRegressor(random_state = 12345)\n",
        "\n",
        "grid = GridSearchCV(estimator = cat, \n",
        "                    param_grid = param_grid, \n",
        "                    cv = 5, scoring='neg_root_mean_squared_error')\n",
        "\n",
        "grid.fit(features_train_scaled, target_train, verbose = 50)\n",
        "predictions_valid = grid.predict(features_test_scaled)\n",
        "rmse = (mean_squared_error(target_test, predictions_valid))**0.5\n",
        "\n",
        "print(\"The best paramenets are %s with a score of %0.2f\"% \n",
        "      (grid.best_params_,grid.best_score_))\n",
        "print(\"CatBoost RMSE:\", rmse)"
      ]
    },
    {
      "cell_type": "code",
      "execution_count": null,
      "metadata": {
        "id": "1DEk7qCF_OrT",
        "outputId": "bbf9fa74-8079-4e22-ac3c-23bec921f5cb"
      },
      "outputs": [
        {
          "name": "stdout",
          "output_type": "stream",
          "text": [
            "0:\tlearn: 4215.4502404\ttotal: 168ms\tremaining: 33.4s\n",
            "100:\tlearn: 1685.1834209\ttotal: 16.5s\tremaining: 16.2s\n",
            "199:\tlearn: 1585.5321706\ttotal: 32.6s\tremaining: 0us\n",
            "CatBoost RMSE: 1637.311392402146\n",
            "Processing time for CatBoost = 32.91\n"
          ]
        }
      ],
      "source": [
        "# Train new CatBoost model using tuned hyperparameters\n",
        "start_cat = time.process_time()\n",
        "model_cat = CatBoostRegressor(iterations = 200,\n",
        "                              depth = 10,\n",
        "                              learning_rate = 0.1,\n",
        "                              random_state = 12345)\n",
        "model_cat.fit(features_train_scaled, target_train, verbose = 100)\n",
        "predictions_valid_cat = model_cat.predict(features_test_scaled)\n",
        "\n",
        "cat_rmse = (mean_squared_error(target_test, predictions_valid_cat))**0.5\n",
        "end_cat = time.process_time()\n",
        "cat_time = round(end_cat-start_cat,2)\n",
        "print(\"CatBoost RMSE:\", cat_rmse)\n",
        "print(f'Processing time for CatBoost = {cat_time}')"
      ]
    },
    {
      "cell_type": "markdown",
      "metadata": {
        "id": "GHtqmqcr_OrV"
      },
      "source": [
        "Something unique happened with the CatBoost model, as its performance in prediction decreased after hyperparameter tuning, but the processing time became faster."
      ]
    },
    {
      "cell_type": "markdown",
      "metadata": {
        "id": "NtI1aWPk_OrV"
      },
      "source": [
        "## Model Analysis"
      ]
    },
    {
      "cell_type": "code",
      "execution_count": null,
      "metadata": {
        "id": "QPypgD3r_OrV",
        "outputId": "684628ec-52ad-49c8-9bcf-7f46400aa385"
      },
      "outputs": [
        {
          "data": {
            "text/html": [
              "<div>\n",
              "<style scoped>\n",
              "    .dataframe tbody tr th:only-of-type {\n",
              "        vertical-align: middle;\n",
              "    }\n",
              "\n",
              "    .dataframe tbody tr th {\n",
              "        vertical-align: top;\n",
              "    }\n",
              "\n",
              "    .dataframe thead th {\n",
              "        text-align: right;\n",
              "    }\n",
              "</style>\n",
              "<table border=\"1\" class=\"dataframe\">\n",
              "  <thead>\n",
              "    <tr style=\"text-align: right;\">\n",
              "      <th></th>\n",
              "      <th>Model RMSE</th>\n",
              "      <th>Processing Time</th>\n",
              "    </tr>\n",
              "  </thead>\n",
              "  <tbody>\n",
              "    <tr>\n",
              "      <th>Linear Regression</th>\n",
              "      <td>3071.480545</td>\n",
              "      <td>0.20</td>\n",
              "    </tr>\n",
              "    <tr>\n",
              "      <th>Decision Tree</th>\n",
              "      <td>2153.170435</td>\n",
              "      <td>2.35</td>\n",
              "    </tr>\n",
              "    <tr>\n",
              "      <th>Random Forest</th>\n",
              "      <td>1925.504437</td>\n",
              "      <td>42.07</td>\n",
              "    </tr>\n",
              "    <tr>\n",
              "      <th>XGBoost</th>\n",
              "      <td>1516.428580</td>\n",
              "      <td>249.62</td>\n",
              "    </tr>\n",
              "    <tr>\n",
              "      <th>LightGBM</th>\n",
              "      <td>1625.602537</td>\n",
              "      <td>11.86</td>\n",
              "    </tr>\n",
              "    <tr>\n",
              "      <th>CatBoost</th>\n",
              "      <td>1637.311392</td>\n",
              "      <td>32.91</td>\n",
              "    </tr>\n",
              "  </tbody>\n",
              "</table>\n",
              "</div>"
            ],
            "text/plain": [
              "                    Model RMSE  Processing Time\n",
              "Linear Regression  3071.480545             0.20\n",
              "Decision Tree      2153.170435             2.35\n",
              "Random Forest      1925.504437            42.07\n",
              "XGBoost            1516.428580           249.62\n",
              "LightGBM           1625.602537            11.86\n",
              "CatBoost           1637.311392            32.91"
            ]
          },
          "execution_count": 80,
          "metadata": {},
          "output_type": "execute_result"
        }
      ],
      "source": [
        "comparison = pd.DataFrame( \n",
        "    {'Model RMSE' : [lr_rmse, dt_rmse, rf_rmse, xgb_rmse, lgbm_rmse, cat_rmse],\n",
        "    'Processing Time' : [lr_time, dt_time, rf_time, xgb_time, lgbm_time, cat_time]}, \n",
        "    index = ['Linear Regression', 'Decision Tree', 'Random Forest', 'XGBoost', 'LightGBM', 'CatBoost'])\n",
        "comparison"
      ]
    },
    {
      "cell_type": "code",
      "execution_count": null,
      "metadata": {
        "id": "fE9m-ctI_OrV",
        "outputId": "53699900-ab7c-433b-c47f-934449c5a81a"
      },
      "outputs": [
        {
          "data": {
            "image/png": "[encoded data removed]",
            "text/plain": [
              "<Figure size 1080x432 with 2 Axes>"
            ]
          },
          "metadata": {},
          "output_type": "display_data"
        }
      ],
      "source": [
        "# Set the color palette\n",
        "colors = ['#FFC107', '#00BCD4', '#4CAF50', '#9C27B0', '#FF5722', '#03A9F4']\n",
        "sns.set_palette(sns.color_palette(colors))\n",
        "\n",
        "# Set the figure size\n",
        "fig = plt.figure(figsize=(15, 6))\n",
        "\n",
        "# Create the bar plot for RMSE scores\n",
        "ax1 = fig.add_subplot(1, 2, 1)\n",
        "sns.barplot(x=comparison.index, y='Model RMSE', data=comparison, ax=ax1)\n",
        "\n",
        "# Set the title and y-axis label\n",
        "ax1.set_title('Comparison of RMSE Scores', fontsize=18, fontweight='bold')\n",
        "ax1.set_ylabel('RMSE', fontsize=14)\n",
        "\n",
        "# Rotate the x-axis labels for better readability\n",
        "ax1.set_xticklabels(ax1.get_xticklabels(), rotation=45, fontsize=12)\n",
        "\n",
        "# Add value labels to the bars\n",
        "for p in ax1.patches:\n",
        "    ax1.annotate(str(round(p.get_height(), 2)), (p.get_x() + p.get_width() / 2, p.get_height()),\n",
        "                ha='center', va='center', xytext=(0, 10), textcoords='offset points', fontsize=12)\n",
        "\n",
        "# Create the bar plot for processing times\n",
        "ax2 = fig.add_subplot(1, 2, 2)\n",
        "sns.barplot(x=comparison.index, y='Processing Time', data=comparison, ax=ax2)\n",
        "\n",
        "# Set the title and y-axis label\n",
        "ax2.set_title('Comparison of Processing Time', fontsize=18, fontweight='bold')\n",
        "ax2.set_ylabel('Time (Seconds)', fontsize=14)\n",
        "\n",
        "# Rotate the x-axis labels for better readability\n",
        "ax2.set_xticklabels(ax2.get_xticklabels(), rotation=45, fontsize=12)\n",
        "\n",
        "# Add value labels to the bars\n",
        "for p in ax2.patches:\n",
        "    ax2.annotate(str(round(p.get_height(), 2)), (p.get_x() + p.get_width() / 2, p.get_height()),\n",
        "                ha='center', va='center', xytext=(0, 10), textcoords='offset points', fontsize=12)\n",
        "\n",
        "# Remove the top and right spines\n",
        "sns.despine()\n",
        "\n",
        "# Adjust the spacing between subplots\n",
        "plt.subplots_adjust(wspace=0.4)\n",
        "\n",
        "# Show the plot\n",
        "plt.show()"
      ]
    },
    {
      "cell_type": "markdown",
      "metadata": {
        "id": "-cbAl3dU_OrV"
      },
      "source": [
        "**Brief Summarize:**\n",
        "\n",
        "Based on the analysis and visualization, it can be seen that models that use the gradient boost method (XGBoost, LightGBM, and CatBoost) produce better predictions, as seen from the RMSE values they generate. When assessed in terms of the model's accuracy in predicting, XGBoost is the best model, followed by LightGBM, CatBoost, RandomForest, DecisionTree, and LinearRegression in last place. However, XGBoost requires the longest processing time compared to other models, so if assessed based on overall performance, the best model order is LightGBM, CatBoost, Random Forest, XGBoost, Decision Tree, and Linear Regression in last place."
      ]
    },
    {
      "cell_type": "markdown",
      "metadata": {
        "id": "8C2ZL0Bx_OrV"
      },
      "source": [
        "## Conclusion"
      ]
    },
    {
      "cell_type": "markdown",
      "metadata": {
        "id": "Ou48O6TP_OrW"
      },
      "source": [
        "**Based on the analysis that has been conducted, my recommendation for Rusty Bargain** would be to use a gradient boosting model like XGBoost, LightGBM, or CatBoost to develop their car price prediction model.\n",
        "\n",
        "However, when considering the processing time of the model, it is important to keep the user experience in mind. Users expect an application that is fast and responsive. While XGBoost may be the most accurate model, its longer processing time may result in a slower application, which can negatively impact the user experience.\n",
        "\n",
        "Therefore, Rusty Bargain may want to consider using a model with a faster processing time, such as LightGBM or CatBoost, to ensure a good user experience. These models have shown to have good accuracy and faster processing times, which can result in a more responsive application that meets user expectations."
      ]
    }
  ],
  "metadata": {
    "kernelspec": {
      "display_name": "Python 3 (ipykernel)",
      "language": "python",
      "name": "python3"
    },
    "language_info": {
      "codemirror_mode": {
        "name": "ipython",
        "version": 3
      },
      "file_extension": ".py",
      "mimetype": "text/x-python",
      "name": "python",
      "nbconvert_exporter": "python",
      "pygments_lexer": "ipython3",
      "version": "3.9.5"
    },
    "toc": {
      "base_numbering": 1,
      "nav_menu": {},
      "number_sections": true,
      "sideBar": true,
      "skip_h1_title": true,
      "title_cell": "Table of Contents",
      "title_sidebar": "Contents",
      "toc_cell": false,
      "toc_position": {},
      "toc_section_display": true,
      "toc_window_display": false
    },
    "colab": {
      "provenance": []
    }
  },
  "nbformat": 4,
  "nbformat_minor": 0
}